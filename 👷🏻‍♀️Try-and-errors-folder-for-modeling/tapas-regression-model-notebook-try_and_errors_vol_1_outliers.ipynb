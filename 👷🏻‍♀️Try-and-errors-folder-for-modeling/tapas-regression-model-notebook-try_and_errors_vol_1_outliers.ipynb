{
 "cells": [
  {
   "cell_type": "markdown",
   "id": "f943477d",
   "metadata": {},
   "source": [
    "# <span style=\"color:rgb(255, 0, 255)\">This document contains the different tries we made</span> "
   ]
  },
  {
   "cell_type": "markdown",
   "id": "113cecaf",
   "metadata": {},
   "source": [
    "Here we only have the code related to machine learning model tries. If you want to review all the steps we took please review the final notebook."
   ]
  },
  {
   "cell_type": "markdown",
   "id": "50d68df0",
   "metadata": {},
   "source": [
    "### <span style=\"color:rgb(255, 0, 255)\">--- Import the necessary libraries</span>"
   ]
  },
  {
   "cell_type": "code",
   "execution_count": 1,
   "id": "b1d05fb6",
   "metadata": {},
   "outputs": [],
   "source": [
    "import pandas as pd\n",
    "import numpy as np\n",
    "\n",
    "\n",
    "import matplotlib.pyplot as plt\n",
    "import seaborn as sns\n",
    "import scipy.stats as stats\n",
    "import matplotlib.ticker as mk\n",
    "pd.set_option('display.max_columns', None)\n",
    "\n",
    "import warnings\n",
    "warnings.filterwarnings('ignore')\n",
    "%matplotlib inline\n",
    "\n",
    "from sklearn.preprocessing import Normalizer\n",
    "from sklearn.preprocessing import MinMaxScaler\n",
    "from sklearn.preprocessing import StandardScaler\n",
    "from sklearn.preprocessing import OneHotEncoder\n",
    "from sklearn.model_selection import train_test_split\n",
    "from sklearn.linear_model import LinearRegression\n",
    "from sklearn.metrics import mean_squared_error, r2_score, mean_absolute_error\n",
    "\n",
    "from sklearn.neighbors import KNeighborsRegressor\n",
    "from sklearn.ensemble import RandomForestRegressor\n",
    "from sklearn.tree import DecisionTreeRegressor\n",
    "\n",
    "import os #we will use the function listdir to list files in a folder\n",
    "import math #to apply absolute value"
   ]
  },
  {
   "cell_type": "markdown",
   "id": "0b9c5387",
   "metadata": {},
   "source": [
    "### <span style=\"color:rgb(255, 0, 255)\">--- Function we use for modeling results</span>\n"
   ]
  },
  {
   "cell_type": "code",
   "execution_count": 2,
   "id": "740784c3",
   "metadata": {},
   "outputs": [],
   "source": [
    "def modeling(y, X, models=[], test_size=0.25):\n",
    "    for model in models:\n",
    "        X_train, X_test, y_train, y_test = train_test_split(X, y, test_size=test_size, random_state=42)\n",
    "        model.fit(X_train, y_train )\n",
    "        predictions = model.predict(X_test)\n",
    "        r2 = r2_score(y_test, predictions)\n",
    "        # r2_adj = 1 - (1-r2)*(len(y_test)-1)/(len(y_test)-X_test.shape[1]-1)\n",
    "        r2_adj =  1 - (1-model.score(X, y))*(len(y)-1)/(len(y)-X.shape[1]-1)\n",
    "        RMSE = mean_squared_error(y_test, predictions, squared=False)\n",
    "        MSE = mean_squared_error(y_test, predictions)\n",
    "        MAE = mean_absolute_error(y_test, predictions)\n",
    "        print(model, 'metrics are: '), print(\"R2 =\", r2), print(\"R2 adjusted =\", r2_adj), print(\"RMSE =\", round(RMSE,2)), print(\"MSE =\", round(MSE,2)), print(\"MAE =\", round(MAE,2))\n",
    "    return predictions, y_test, r2"
   ]
  },
  {
   "cell_type": "markdown",
   "id": "227f8486",
   "metadata": {},
   "source": [
    "### <span style=\"color:rgb(255, 0, 255)\">--- Load the database</span>"
   ]
  },
  {
   "cell_type": "code",
   "execution_count": 3,
   "id": "9d97aeec",
   "metadata": {
    "scrolled": true
   },
   "outputs": [
    {
     "data": {
      "text/html": [
       "<div>\n",
       "<style scoped>\n",
       "    .dataframe tbody tr th:only-of-type {\n",
       "        vertical-align: middle;\n",
       "    }\n",
       "\n",
       "    .dataframe tbody tr th {\n",
       "        vertical-align: top;\n",
       "    }\n",
       "\n",
       "    .dataframe thead th {\n",
       "        text-align: right;\n",
       "    }\n",
       "</style>\n",
       "<table border=\"1\" class=\"dataframe\">\n",
       "  <thead>\n",
       "    <tr style=\"text-align: right;\">\n",
       "      <th></th>\n",
       "      <th>id</th>\n",
       "      <th>date</th>\n",
       "      <th>bedrooms</th>\n",
       "      <th>bathrooms</th>\n",
       "      <th>sqft_living</th>\n",
       "      <th>sqft_lot</th>\n",
       "      <th>floors</th>\n",
       "      <th>waterfront</th>\n",
       "      <th>view</th>\n",
       "      <th>condition</th>\n",
       "      <th>grade</th>\n",
       "      <th>sqft_above</th>\n",
       "      <th>sqft_basement</th>\n",
       "      <th>yr_built</th>\n",
       "      <th>yr_renovated</th>\n",
       "      <th>zipcode</th>\n",
       "      <th>lat</th>\n",
       "      <th>long</th>\n",
       "      <th>sqft_living15</th>\n",
       "      <th>sqft_lot15</th>\n",
       "      <th>price</th>\n",
       "    </tr>\n",
       "  </thead>\n",
       "  <tbody>\n",
       "    <tr>\n",
       "      <th>0</th>\n",
       "      <td>7129300520</td>\n",
       "      <td>2014-10-13</td>\n",
       "      <td>3</td>\n",
       "      <td>1.00</td>\n",
       "      <td>1180</td>\n",
       "      <td>5650</td>\n",
       "      <td>1.0</td>\n",
       "      <td>0</td>\n",
       "      <td>0</td>\n",
       "      <td>3</td>\n",
       "      <td>7</td>\n",
       "      <td>1180</td>\n",
       "      <td>0</td>\n",
       "      <td>1955</td>\n",
       "      <td>0</td>\n",
       "      <td>98178</td>\n",
       "      <td>47.5112</td>\n",
       "      <td>-122.257</td>\n",
       "      <td>1340</td>\n",
       "      <td>5650</td>\n",
       "      <td>221900</td>\n",
       "    </tr>\n",
       "    <tr>\n",
       "      <th>1</th>\n",
       "      <td>6414100192</td>\n",
       "      <td>2014-12-09</td>\n",
       "      <td>3</td>\n",
       "      <td>2.25</td>\n",
       "      <td>2570</td>\n",
       "      <td>7242</td>\n",
       "      <td>2.0</td>\n",
       "      <td>0</td>\n",
       "      <td>0</td>\n",
       "      <td>3</td>\n",
       "      <td>7</td>\n",
       "      <td>2170</td>\n",
       "      <td>400</td>\n",
       "      <td>1951</td>\n",
       "      <td>1991</td>\n",
       "      <td>98125</td>\n",
       "      <td>47.7210</td>\n",
       "      <td>-122.319</td>\n",
       "      <td>1690</td>\n",
       "      <td>7639</td>\n",
       "      <td>538000</td>\n",
       "    </tr>\n",
       "    <tr>\n",
       "      <th>2</th>\n",
       "      <td>5631500400</td>\n",
       "      <td>2015-02-25</td>\n",
       "      <td>2</td>\n",
       "      <td>1.00</td>\n",
       "      <td>770</td>\n",
       "      <td>10000</td>\n",
       "      <td>1.0</td>\n",
       "      <td>0</td>\n",
       "      <td>0</td>\n",
       "      <td>3</td>\n",
       "      <td>6</td>\n",
       "      <td>770</td>\n",
       "      <td>0</td>\n",
       "      <td>1933</td>\n",
       "      <td>0</td>\n",
       "      <td>98028</td>\n",
       "      <td>47.7379</td>\n",
       "      <td>-122.233</td>\n",
       "      <td>2720</td>\n",
       "      <td>8062</td>\n",
       "      <td>180000</td>\n",
       "    </tr>\n",
       "    <tr>\n",
       "      <th>3</th>\n",
       "      <td>2487200875</td>\n",
       "      <td>2014-12-09</td>\n",
       "      <td>4</td>\n",
       "      <td>3.00</td>\n",
       "      <td>1960</td>\n",
       "      <td>5000</td>\n",
       "      <td>1.0</td>\n",
       "      <td>0</td>\n",
       "      <td>0</td>\n",
       "      <td>5</td>\n",
       "      <td>7</td>\n",
       "      <td>1050</td>\n",
       "      <td>910</td>\n",
       "      <td>1965</td>\n",
       "      <td>0</td>\n",
       "      <td>98136</td>\n",
       "      <td>47.5208</td>\n",
       "      <td>-122.393</td>\n",
       "      <td>1360</td>\n",
       "      <td>5000</td>\n",
       "      <td>604000</td>\n",
       "    </tr>\n",
       "    <tr>\n",
       "      <th>4</th>\n",
       "      <td>1954400510</td>\n",
       "      <td>2015-02-18</td>\n",
       "      <td>3</td>\n",
       "      <td>2.00</td>\n",
       "      <td>1680</td>\n",
       "      <td>8080</td>\n",
       "      <td>1.0</td>\n",
       "      <td>0</td>\n",
       "      <td>0</td>\n",
       "      <td>3</td>\n",
       "      <td>8</td>\n",
       "      <td>1680</td>\n",
       "      <td>0</td>\n",
       "      <td>1987</td>\n",
       "      <td>0</td>\n",
       "      <td>98074</td>\n",
       "      <td>47.6168</td>\n",
       "      <td>-122.045</td>\n",
       "      <td>1800</td>\n",
       "      <td>7503</td>\n",
       "      <td>510000</td>\n",
       "    </tr>\n",
       "  </tbody>\n",
       "</table>\n",
       "</div>"
      ],
      "text/plain": [
       "           id       date  bedrooms  bathrooms  sqft_living  sqft_lot  floors  \\\n",
       "0  7129300520 2014-10-13         3       1.00         1180      5650     1.0   \n",
       "1  6414100192 2014-12-09         3       2.25         2570      7242     2.0   \n",
       "2  5631500400 2015-02-25         2       1.00          770     10000     1.0   \n",
       "3  2487200875 2014-12-09         4       3.00         1960      5000     1.0   \n",
       "4  1954400510 2015-02-18         3       2.00         1680      8080     1.0   \n",
       "\n",
       "   waterfront  view  condition  grade  sqft_above  sqft_basement  yr_built  \\\n",
       "0           0     0          3      7        1180              0      1955   \n",
       "1           0     0          3      7        2170            400      1951   \n",
       "2           0     0          3      6         770              0      1933   \n",
       "3           0     0          5      7        1050            910      1965   \n",
       "4           0     0          3      8        1680              0      1987   \n",
       "\n",
       "   yr_renovated  zipcode      lat     long  sqft_living15  sqft_lot15   price  \n",
       "0             0    98178  47.5112 -122.257           1340        5650  221900  \n",
       "1          1991    98125  47.7210 -122.319           1690        7639  538000  \n",
       "2             0    98028  47.7379 -122.233           2720        8062  180000  \n",
       "3             0    98136  47.5208 -122.393           1360        5000  604000  \n",
       "4             0    98074  47.6168 -122.045           1800        7503  510000  "
      ]
     },
     "execution_count": 3,
     "metadata": {},
     "output_type": "execute_result"
    }
   ],
   "source": [
    "data = pd.read_excel('regression_data.xls')\n",
    "data.head()"
   ]
  },
  {
   "cell_type": "code",
   "execution_count": 4,
   "id": "a560508c",
   "metadata": {},
   "outputs": [
    {
     "data": {
      "text/plain": [
       "(21597, 21)"
      ]
     },
     "execution_count": 4,
     "metadata": {},
     "output_type": "execute_result"
    }
   ],
   "source": [
    "data.shape"
   ]
  },
  {
   "cell_type": "markdown",
   "id": "646b7257",
   "metadata": {},
   "source": [
    "### <span style=\"color:rgb(255, 0, 255)\">--- Drop columns that we don't longer need"
   ]
  },
  {
   "cell_type": "code",
   "execution_count": 5,
   "id": "3b791140",
   "metadata": {},
   "outputs": [
    {
     "data": {
      "text/html": [
       "<div>\n",
       "<style scoped>\n",
       "    .dataframe tbody tr th:only-of-type {\n",
       "        vertical-align: middle;\n",
       "    }\n",
       "\n",
       "    .dataframe tbody tr th {\n",
       "        vertical-align: top;\n",
       "    }\n",
       "\n",
       "    .dataframe thead th {\n",
       "        text-align: right;\n",
       "    }\n",
       "</style>\n",
       "<table border=\"1\" class=\"dataframe\">\n",
       "  <thead>\n",
       "    <tr style=\"text-align: right;\">\n",
       "      <th></th>\n",
       "      <th>date</th>\n",
       "      <th>bedrooms</th>\n",
       "      <th>bathrooms</th>\n",
       "      <th>sqft_living</th>\n",
       "      <th>sqft_lot</th>\n",
       "      <th>floors</th>\n",
       "      <th>waterfront</th>\n",
       "      <th>view</th>\n",
       "      <th>condition</th>\n",
       "      <th>grade</th>\n",
       "      <th>sqft_above</th>\n",
       "      <th>sqft_basement</th>\n",
       "      <th>yr_built</th>\n",
       "      <th>yr_renovated</th>\n",
       "      <th>zipcode</th>\n",
       "      <th>lat</th>\n",
       "      <th>long</th>\n",
       "      <th>sqft_living15</th>\n",
       "      <th>sqft_lot15</th>\n",
       "      <th>price</th>\n",
       "    </tr>\n",
       "  </thead>\n",
       "  <tbody>\n",
       "    <tr>\n",
       "      <th>0</th>\n",
       "      <td>2014-10-13</td>\n",
       "      <td>3</td>\n",
       "      <td>1.00</td>\n",
       "      <td>1180</td>\n",
       "      <td>5650</td>\n",
       "      <td>1.0</td>\n",
       "      <td>0</td>\n",
       "      <td>0</td>\n",
       "      <td>3</td>\n",
       "      <td>7</td>\n",
       "      <td>1180</td>\n",
       "      <td>0</td>\n",
       "      <td>1955</td>\n",
       "      <td>0</td>\n",
       "      <td>98178</td>\n",
       "      <td>47.5112</td>\n",
       "      <td>-122.257</td>\n",
       "      <td>1340</td>\n",
       "      <td>5650</td>\n",
       "      <td>221900</td>\n",
       "    </tr>\n",
       "    <tr>\n",
       "      <th>1</th>\n",
       "      <td>2014-12-09</td>\n",
       "      <td>3</td>\n",
       "      <td>2.25</td>\n",
       "      <td>2570</td>\n",
       "      <td>7242</td>\n",
       "      <td>2.0</td>\n",
       "      <td>0</td>\n",
       "      <td>0</td>\n",
       "      <td>3</td>\n",
       "      <td>7</td>\n",
       "      <td>2170</td>\n",
       "      <td>400</td>\n",
       "      <td>1951</td>\n",
       "      <td>1991</td>\n",
       "      <td>98125</td>\n",
       "      <td>47.7210</td>\n",
       "      <td>-122.319</td>\n",
       "      <td>1690</td>\n",
       "      <td>7639</td>\n",
       "      <td>538000</td>\n",
       "    </tr>\n",
       "    <tr>\n",
       "      <th>2</th>\n",
       "      <td>2015-02-25</td>\n",
       "      <td>2</td>\n",
       "      <td>1.00</td>\n",
       "      <td>770</td>\n",
       "      <td>10000</td>\n",
       "      <td>1.0</td>\n",
       "      <td>0</td>\n",
       "      <td>0</td>\n",
       "      <td>3</td>\n",
       "      <td>6</td>\n",
       "      <td>770</td>\n",
       "      <td>0</td>\n",
       "      <td>1933</td>\n",
       "      <td>0</td>\n",
       "      <td>98028</td>\n",
       "      <td>47.7379</td>\n",
       "      <td>-122.233</td>\n",
       "      <td>2720</td>\n",
       "      <td>8062</td>\n",
       "      <td>180000</td>\n",
       "    </tr>\n",
       "    <tr>\n",
       "      <th>3</th>\n",
       "      <td>2014-12-09</td>\n",
       "      <td>4</td>\n",
       "      <td>3.00</td>\n",
       "      <td>1960</td>\n",
       "      <td>5000</td>\n",
       "      <td>1.0</td>\n",
       "      <td>0</td>\n",
       "      <td>0</td>\n",
       "      <td>5</td>\n",
       "      <td>7</td>\n",
       "      <td>1050</td>\n",
       "      <td>910</td>\n",
       "      <td>1965</td>\n",
       "      <td>0</td>\n",
       "      <td>98136</td>\n",
       "      <td>47.5208</td>\n",
       "      <td>-122.393</td>\n",
       "      <td>1360</td>\n",
       "      <td>5000</td>\n",
       "      <td>604000</td>\n",
       "    </tr>\n",
       "    <tr>\n",
       "      <th>4</th>\n",
       "      <td>2015-02-18</td>\n",
       "      <td>3</td>\n",
       "      <td>2.00</td>\n",
       "      <td>1680</td>\n",
       "      <td>8080</td>\n",
       "      <td>1.0</td>\n",
       "      <td>0</td>\n",
       "      <td>0</td>\n",
       "      <td>3</td>\n",
       "      <td>8</td>\n",
       "      <td>1680</td>\n",
       "      <td>0</td>\n",
       "      <td>1987</td>\n",
       "      <td>0</td>\n",
       "      <td>98074</td>\n",
       "      <td>47.6168</td>\n",
       "      <td>-122.045</td>\n",
       "      <td>1800</td>\n",
       "      <td>7503</td>\n",
       "      <td>510000</td>\n",
       "    </tr>\n",
       "  </tbody>\n",
       "</table>\n",
       "</div>"
      ],
      "text/plain": [
       "        date  bedrooms  bathrooms  sqft_living  sqft_lot  floors  waterfront  \\\n",
       "0 2014-10-13         3       1.00         1180      5650     1.0           0   \n",
       "1 2014-12-09         3       2.25         2570      7242     2.0           0   \n",
       "2 2015-02-25         2       1.00          770     10000     1.0           0   \n",
       "3 2014-12-09         4       3.00         1960      5000     1.0           0   \n",
       "4 2015-02-18         3       2.00         1680      8080     1.0           0   \n",
       "\n",
       "   view  condition  grade  sqft_above  sqft_basement  yr_built  yr_renovated  \\\n",
       "0     0          3      7        1180              0      1955             0   \n",
       "1     0          3      7        2170            400      1951          1991   \n",
       "2     0          3      6         770              0      1933             0   \n",
       "3     0          5      7        1050            910      1965             0   \n",
       "4     0          3      8        1680              0      1987             0   \n",
       "\n",
       "   zipcode      lat     long  sqft_living15  sqft_lot15   price  \n",
       "0    98178  47.5112 -122.257           1340        5650  221900  \n",
       "1    98125  47.7210 -122.319           1690        7639  538000  \n",
       "2    98028  47.7379 -122.233           2720        8062  180000  \n",
       "3    98136  47.5208 -122.393           1360        5000  604000  \n",
       "4    98074  47.6168 -122.045           1800        7503  510000  "
      ]
     },
     "execution_count": 5,
     "metadata": {},
     "output_type": "execute_result"
    }
   ],
   "source": [
    "df = data.copy() # for that we are using df as a table to do all the changes\n",
    "df = df.drop(['id'], axis=1)\n",
    "df.head() #we don't need \"id\" for the model because is an ID"
   ]
  },
  {
   "cell_type": "markdown",
   "id": "e0e13d3a",
   "metadata": {},
   "source": [
    "### <span style=\"color:rgb(255, 0, 255)\"> Create a column for year, month, heck for the format of date columns</span>"
   ]
  },
  {
   "cell_type": "markdown",
   "id": "e9b5e4bb",
   "metadata": {},
   "source": [
    "<span style=\"color:rgb(255, 0, 255)\"> Create columns for year, month, day so we can use this info for the model:"
   ]
  },
  {
   "cell_type": "code",
   "execution_count": 6,
   "id": "d07117d2",
   "metadata": {},
   "outputs": [],
   "source": [
    "df['day_bought']=data['date'].dt.day\n",
    "df['month_bought']=data['date'].dt.month\n",
    "df['year_bought']=data['date'].dt.year"
   ]
  },
  {
   "cell_type": "code",
   "execution_count": 7,
   "id": "57cec1dc",
   "metadata": {},
   "outputs": [],
   "source": [
    "df = df.drop('date', axis=1) #let's drop date because we already have that info in the new columns created"
   ]
  },
  {
   "cell_type": "markdown",
   "id": "a7c6e01c",
   "metadata": {},
   "source": [
    "df.to_csv('df.csv', index=False) # this is the point where we will start the following tries"
   ]
  },
  {
   "cell_type": "markdown",
   "id": "948e5f1a",
   "metadata": {},
   "source": [
    "<span style=\"color:rgb(255, 0, 255)\">**continous** = sqft_living, sqft_lot, sqft_above, sqft_basement, yr_built, yr_renovated, zipcode, lat, long, sqft_living15, sqft_lot15, price (target), month_bought, year_bought\n",
    "    \n",
    "<span style=\"color:rgb(255, 0, 255)\">**discrete** = bedrooms, bathrooms, floors, waterfront, view, condition, grade"
   ]
  },
  {
   "cell_type": "markdown",
   "id": "42e1889b",
   "metadata": {},
   "source": [
    "# First try without doing much to the dataset"
   ]
  },
  {
   "cell_type": "markdown",
   "id": "1c7224d0",
   "metadata": {},
   "source": [
    "#### We have an original R2 of 0,692"
   ]
  },
  {
   "cell_type": "code",
   "execution_count": 8,
   "id": "a3315952",
   "metadata": {},
   "outputs": [
    {
     "data": {
      "text/plain": [
       "(21597, 21)"
      ]
     },
     "execution_count": 8,
     "metadata": {},
     "output_type": "execute_result"
    }
   ],
   "source": [
    "X_num = df.drop(\"price\", axis = 1)\n",
    "transformer = MinMaxScaler().fit(X_num)\n",
    "X_num_minmax = transformer.transform(X_num)\n",
    "X_num_norm = pd.DataFrame(X_num_minmax,columns=X_num.columns)\n",
    "X_num_normalized = X_num_norm.copy()\n",
    "X_num_normalized.shape"
   ]
  },
  {
   "cell_type": "code",
   "execution_count": 9,
   "id": "38a74325",
   "metadata": {
    "scrolled": false
   },
   "outputs": [
    {
     "data": {
      "text/plain": [
       "LinearRegression()"
      ]
     },
     "execution_count": 9,
     "metadata": {},
     "output_type": "execute_result"
    }
   ],
   "source": [
    "X = X_num_normalized.copy()\n",
    "Y = df[\"price\"]\n",
    "#Separation between train and test\n",
    "X_train, X_test, y_train, y_test = train_test_split(X, Y, test_size=0.25, random_state=42) \n",
    "#Train model\n",
    "model = LinearRegression()\n",
    "model.fit(X_train,y_train)"
   ]
  },
  {
   "cell_type": "code",
   "execution_count": 10,
   "id": "c5170c14",
   "metadata": {
    "scrolled": true
   },
   "outputs": [
    {
     "name": "stdout",
     "output_type": "stream",
     "text": [
      "LinearRegression() metrics are: \n",
      "R2 = 0.6927167253231534\n",
      "R2 adjusted = 0.7012699305815842\n",
      "RMSE = 197711.7\n",
      "MSE = 39089916733.08\n",
      "MAE = 125329.52\n",
      "KNeighborsRegressor(n_neighbors=9) metrics are: \n",
      "R2 = 0.7106614073885723\n",
      "R2 adjusted = 0.7615972414172589\n",
      "RMSE = 191851.9\n",
      "MSE = 36807149704.91\n",
      "MAE = 101284.39\n",
      "DecisionTreeRegressor(max_depth=10) metrics are: \n",
      "R2 = 0.7838658208228286\n",
      "R2 adjusted = 0.882604752548026\n",
      "RMSE = 165815.31\n",
      "MSE = 27494718272.88\n",
      "MAE = 90764.19\n",
      "RandomForestRegressor(max_depth=10) metrics are: \n",
      "R2 = 0.8551121298468471\n",
      "R2 adjusted = 0.9176023760599616\n",
      "RMSE = 135762.22\n",
      "MSE = 18431379924.19\n",
      "MAE = 75852.07\n"
     ]
    }
   ],
   "source": [
    "predictions, y_test, r2 = modeling(Y, X, models=[LinearRegression(), KNeighborsRegressor(n_neighbors=9), DecisionTreeRegressor(max_depth=10),RandomForestRegressor(n_estimators=100, max_depth=10)], test_size=0.24)"
   ]
  },
  {
   "cell_type": "markdown",
   "id": "32a076bc",
   "metadata": {},
   "source": [
    "# ❌Removing outliers I "
   ]
  },
  {
   "cell_type": "markdown",
   "id": "93db51fb",
   "metadata": {},
   "source": [
    "#### Removing outliers of so many columns (sqft_living, sqft_lot, sqft_basement, sqft_above, sqft_living15, sqft_lot15, affected badly the R2"
   ]
  },
  {
   "cell_type": "code",
   "execution_count": 11,
   "id": "0424652a",
   "metadata": {
    "scrolled": true
   },
   "outputs": [
    {
     "data": {
      "text/html": [
       "<div>\n",
       "<style scoped>\n",
       "    .dataframe tbody tr th:only-of-type {\n",
       "        vertical-align: middle;\n",
       "    }\n",
       "\n",
       "    .dataframe tbody tr th {\n",
       "        vertical-align: top;\n",
       "    }\n",
       "\n",
       "    .dataframe thead th {\n",
       "        text-align: right;\n",
       "    }\n",
       "</style>\n",
       "<table border=\"1\" class=\"dataframe\">\n",
       "  <thead>\n",
       "    <tr style=\"text-align: right;\">\n",
       "      <th></th>\n",
       "      <th>bedrooms</th>\n",
       "      <th>bathrooms</th>\n",
       "      <th>sqft_living</th>\n",
       "      <th>sqft_lot</th>\n",
       "      <th>floors</th>\n",
       "      <th>waterfront</th>\n",
       "      <th>view</th>\n",
       "      <th>condition</th>\n",
       "      <th>grade</th>\n",
       "      <th>sqft_above</th>\n",
       "      <th>sqft_basement</th>\n",
       "      <th>yr_built</th>\n",
       "      <th>yr_renovated</th>\n",
       "      <th>zipcode</th>\n",
       "      <th>lat</th>\n",
       "      <th>long</th>\n",
       "      <th>sqft_living15</th>\n",
       "      <th>sqft_lot15</th>\n",
       "      <th>price</th>\n",
       "      <th>day_bought</th>\n",
       "      <th>month_bought</th>\n",
       "      <th>year_bought</th>\n",
       "    </tr>\n",
       "  </thead>\n",
       "  <tbody>\n",
       "    <tr>\n",
       "      <th>0</th>\n",
       "      <td>3</td>\n",
       "      <td>1.00</td>\n",
       "      <td>1180</td>\n",
       "      <td>5650</td>\n",
       "      <td>1.0</td>\n",
       "      <td>0</td>\n",
       "      <td>0</td>\n",
       "      <td>3</td>\n",
       "      <td>7</td>\n",
       "      <td>1180</td>\n",
       "      <td>0</td>\n",
       "      <td>1955</td>\n",
       "      <td>0</td>\n",
       "      <td>98178</td>\n",
       "      <td>47.5112</td>\n",
       "      <td>-122.257</td>\n",
       "      <td>1340</td>\n",
       "      <td>5650</td>\n",
       "      <td>221900</td>\n",
       "      <td>13</td>\n",
       "      <td>10</td>\n",
       "      <td>2014</td>\n",
       "    </tr>\n",
       "    <tr>\n",
       "      <th>1</th>\n",
       "      <td>3</td>\n",
       "      <td>2.25</td>\n",
       "      <td>2570</td>\n",
       "      <td>7242</td>\n",
       "      <td>2.0</td>\n",
       "      <td>0</td>\n",
       "      <td>0</td>\n",
       "      <td>3</td>\n",
       "      <td>7</td>\n",
       "      <td>2170</td>\n",
       "      <td>400</td>\n",
       "      <td>1951</td>\n",
       "      <td>1991</td>\n",
       "      <td>98125</td>\n",
       "      <td>47.7210</td>\n",
       "      <td>-122.319</td>\n",
       "      <td>1690</td>\n",
       "      <td>7639</td>\n",
       "      <td>538000</td>\n",
       "      <td>9</td>\n",
       "      <td>12</td>\n",
       "      <td>2014</td>\n",
       "    </tr>\n",
       "    <tr>\n",
       "      <th>2</th>\n",
       "      <td>2</td>\n",
       "      <td>1.00</td>\n",
       "      <td>770</td>\n",
       "      <td>10000</td>\n",
       "      <td>1.0</td>\n",
       "      <td>0</td>\n",
       "      <td>0</td>\n",
       "      <td>3</td>\n",
       "      <td>6</td>\n",
       "      <td>770</td>\n",
       "      <td>0</td>\n",
       "      <td>1933</td>\n",
       "      <td>0</td>\n",
       "      <td>98028</td>\n",
       "      <td>47.7379</td>\n",
       "      <td>-122.233</td>\n",
       "      <td>2720</td>\n",
       "      <td>8062</td>\n",
       "      <td>180000</td>\n",
       "      <td>25</td>\n",
       "      <td>2</td>\n",
       "      <td>2015</td>\n",
       "    </tr>\n",
       "    <tr>\n",
       "      <th>3</th>\n",
       "      <td>4</td>\n",
       "      <td>3.00</td>\n",
       "      <td>1960</td>\n",
       "      <td>5000</td>\n",
       "      <td>1.0</td>\n",
       "      <td>0</td>\n",
       "      <td>0</td>\n",
       "      <td>5</td>\n",
       "      <td>7</td>\n",
       "      <td>1050</td>\n",
       "      <td>910</td>\n",
       "      <td>1965</td>\n",
       "      <td>0</td>\n",
       "      <td>98136</td>\n",
       "      <td>47.5208</td>\n",
       "      <td>-122.393</td>\n",
       "      <td>1360</td>\n",
       "      <td>5000</td>\n",
       "      <td>604000</td>\n",
       "      <td>9</td>\n",
       "      <td>12</td>\n",
       "      <td>2014</td>\n",
       "    </tr>\n",
       "    <tr>\n",
       "      <th>4</th>\n",
       "      <td>3</td>\n",
       "      <td>2.00</td>\n",
       "      <td>1680</td>\n",
       "      <td>8080</td>\n",
       "      <td>1.0</td>\n",
       "      <td>0</td>\n",
       "      <td>0</td>\n",
       "      <td>3</td>\n",
       "      <td>8</td>\n",
       "      <td>1680</td>\n",
       "      <td>0</td>\n",
       "      <td>1987</td>\n",
       "      <td>0</td>\n",
       "      <td>98074</td>\n",
       "      <td>47.6168</td>\n",
       "      <td>-122.045</td>\n",
       "      <td>1800</td>\n",
       "      <td>7503</td>\n",
       "      <td>510000</td>\n",
       "      <td>18</td>\n",
       "      <td>2</td>\n",
       "      <td>2015</td>\n",
       "    </tr>\n",
       "  </tbody>\n",
       "</table>\n",
       "</div>"
      ],
      "text/plain": [
       "   bedrooms  bathrooms  sqft_living  sqft_lot  floors  waterfront  view  \\\n",
       "0         3       1.00         1180      5650     1.0           0     0   \n",
       "1         3       2.25         2570      7242     2.0           0     0   \n",
       "2         2       1.00          770     10000     1.0           0     0   \n",
       "3         4       3.00         1960      5000     1.0           0     0   \n",
       "4         3       2.00         1680      8080     1.0           0     0   \n",
       "\n",
       "   condition  grade  sqft_above  sqft_basement  yr_built  yr_renovated  \\\n",
       "0          3      7        1180              0      1955             0   \n",
       "1          3      7        2170            400      1951          1991   \n",
       "2          3      6         770              0      1933             0   \n",
       "3          5      7        1050            910      1965             0   \n",
       "4          3      8        1680              0      1987             0   \n",
       "\n",
       "   zipcode      lat     long  sqft_living15  sqft_lot15   price  day_bought  \\\n",
       "0    98178  47.5112 -122.257           1340        5650  221900          13   \n",
       "1    98125  47.7210 -122.319           1690        7639  538000           9   \n",
       "2    98028  47.7379 -122.233           2720        8062  180000          25   \n",
       "3    98136  47.5208 -122.393           1360        5000  604000           9   \n",
       "4    98074  47.6168 -122.045           1800        7503  510000          18   \n",
       "\n",
       "   month_bought  year_bought  \n",
       "0            10         2014  \n",
       "1            12         2014  \n",
       "2             2         2015  \n",
       "3            12         2014  \n",
       "4             2         2015  "
      ]
     },
     "execution_count": 11,
     "metadata": {},
     "output_type": "execute_result"
    }
   ],
   "source": [
    "df1 = pd.read_csv('df.csv')\n",
    "df1.head()"
   ]
  },
  {
   "cell_type": "code",
   "execution_count": 12,
   "id": "03aac227",
   "metadata": {},
   "outputs": [
    {
     "data": {
      "image/png": "[encoded data removed]",
      "text/plain": [
       "<Figure size 640x480 with 1 Axes>"
      ]
     },
     "metadata": {},
     "output_type": "display_data"
    },
    {
     "data": {
      "image/png": "[encoded data removed]",
      "text/plain": [
       "<Figure size 640x480 with 1 Axes>"
      ]
     },
     "metadata": {},
     "output_type": "display_data"
    },
    {
     "data": {
      "image/png": "[encoded data removed]",
      "text/plain": [
       "<Figure size 640x480 with 1 Axes>"
      ]
     },
     "metadata": {},
     "output_type": "display_data"
    },
    {
     "data": {
      "image/png": "[encoded data removed]",
      "text/plain": [
       "<Figure size 640x480 with 1 Axes>"
      ]
     },
     "metadata": {},
     "output_type": "display_data"
    },
    {
     "data": {
      "image/png": "[encoded data removed]",
      "text/plain": [
       "<Figure size 640x480 with 1 Axes>"
      ]
     },
     "metadata": {},
     "output_type": "display_data"
    },
    {
     "data": {
      "image/png": "[encoded data removed]",
      "text/plain": [
       "<Figure size 640x480 with 1 Axes>"
      ]
     },
     "metadata": {},
     "output_type": "display_data"
    },
    {
     "data": {
      "image/png": "[encoded data removed]",
      "text/plain": [
       "<Figure size 640x480 with 1 Axes>"
      ]
     },
     "metadata": {},
     "output_type": "display_data"
    },
    {
     "data": {
      "image/png": "[encoded data removed]",
      "text/plain": [
       "<Figure size 640x480 with 1 Axes>"
      ]
     },
     "metadata": {},
     "output_type": "display_data"
    },
    {
     "data": {
      "image/png": "[encoded data removed]",
      "text/plain": [
       "<Figure size 640x480 with 1 Axes>"
      ]
     },
     "metadata": {},
     "output_type": "display_data"
    },
    {
     "data": {
      "image/png": "[encoded data removed]",
      "text/plain": [
       "<Figure size 640x480 with 1 Axes>"
      ]
     },
     "metadata": {},
     "output_type": "display_data"
    },
    {
     "data": {
      "image/png": "[encoded data removed]",
      "text/plain": [
       "<Figure size 640x480 with 1 Axes>"
      ]
     },
     "metadata": {},
     "output_type": "display_data"
    },
    {
     "data": {
      "image/png": "[encoded data removed]",
      "text/plain": [
       "<Figure size 640x480 with 1 Axes>"
      ]
     },
     "metadata": {},
     "output_type": "display_data"
    },
    {
     "data": {
      "image/png": "[encoded data removed]",
      "text/plain": [
       "<Figure size 640x480 with 1 Axes>"
      ]
     },
     "metadata": {},
     "output_type": "display_data"
    },
    {
     "data": {
      "image/png": "[encoded data removed]",
      "text/plain": [
       "<Figure size 640x480 with 1 Axes>"
      ]
     },
     "metadata": {},
     "output_type": "display_data"
    },
    {
     "data": {
      "image/png": "[encoded data removed]",
      "text/plain": [
       "<Figure size 640x480 with 1 Axes>"
      ]
     },
     "metadata": {},
     "output_type": "display_data"
    },
    {
     "data": {
      "image/png": "[encoded data removed]",
      "text/plain": [
       "<Figure size 640x480 with 1 Axes>"
      ]
     },
     "metadata": {},
     "output_type": "display_data"
    },
    {
     "data": {
      "image/png": "[encoded data removed]",
      "text/plain": [
       "<Figure size 640x480 with 1 Axes>"
      ]
     },
     "metadata": {},
     "output_type": "display_data"
    },
    {
     "data": {
      "image/png": "[encoded data removed]",
      "text/plain": [
       "<Figure size 640x480 with 1 Axes>"
      ]
     },
     "metadata": {},
     "output_type": "display_data"
    },
    {
     "data": {
      "image/png": "[encoded data removed]",
      "text/plain": [
       "<Figure size 640x480 with 1 Axes>"
      ]
     },
     "metadata": {},
     "output_type": "display_data"
    },
    {
     "data": {
      "image/png": "[encoded data removed]",
      "text/plain": [
       "<Figure size 640x480 with 1 Axes>"
      ]
     },
     "metadata": {},
     "output_type": "display_data"
    },
    {
     "data": {
      "image/png": "[encoded data removed]",
      "text/plain": [
       "<Figure size 640x480 with 1 Axes>"
      ]
     },
     "metadata": {},
     "output_type": "display_data"
    },
    {
     "data": {
      "image/png": "[encoded data removed]",
      "text/plain": [
       "<Figure size 640x480 with 1 Axes>"
      ]
     },
     "metadata": {},
     "output_type": "display_data"
    }
   ],
   "source": [
    "#Create a group of boxplots\n",
    "\n",
    "for i, col in enumerate(df1.columns):\n",
    "    plt.figure(i)\n",
    "    sns.boxplot(x=df[col] ,whis=1.5)"
   ]
  },
  {
   "cell_type": "code",
   "execution_count": 13,
   "id": "f7e0537f",
   "metadata": {},
   "outputs": [
    {
     "data": {
      "text/plain": [
       "(21015, 22)"
      ]
     },
     "execution_count": 13,
     "metadata": {},
     "output_type": "execute_result"
    }
   ],
   "source": [
    "#Remove outliers sqft_living\n",
    "iqr = np.percentile(df1['sqft_living'],75) - np.percentile(df1['sqft_living'],25)\n",
    "upper_limit = np.percentile(df1['sqft_living'],75) + 1.5*iqr\n",
    "lower_limit = np.percentile(df1['sqft_living'],25) - 1.5*iqr\n",
    "df1 = df1[(df1['sqft_living']>lower_limit) & (df1['sqft_living']<upper_limit)]\n",
    "df1.shape"
   ]
  },
  {
   "cell_type": "code",
   "execution_count": 14,
   "id": "4fb4aca6",
   "metadata": {},
   "outputs": [
    {
     "data": {
      "text/plain": [
       "(18766, 22)"
      ]
     },
     "execution_count": 14,
     "metadata": {},
     "output_type": "execute_result"
    }
   ],
   "source": [
    "#Remove outliers sqft_lot\n",
    "iqr = np.percentile(df1['sqft_lot'],75) - np.percentile(df1['sqft_lot'],25)\n",
    "upper_limit = np.percentile(df1['sqft_lot'],75) + 1.5*iqr\n",
    "lower_limit = np.percentile(df1['sqft_lot'],25) - 1.5*iqr\n",
    "df1 = df1[(df1['sqft_lot']>lower_limit) & (df1['sqft_lot']<upper_limit)]\n",
    "df1.shape"
   ]
  },
  {
   "cell_type": "code",
   "execution_count": 15,
   "id": "eabd0a7b",
   "metadata": {
    "scrolled": true
   },
   "outputs": [
    {
     "data": {
      "text/plain": [
       "(18417, 22)"
      ]
     },
     "execution_count": 15,
     "metadata": {},
     "output_type": "execute_result"
    }
   ],
   "source": [
    "#Remove outliers sqft_basement\n",
    "iqr = np.percentile(df1['sqft_basement'],75) - np.percentile(df1['sqft_basement'],25)\n",
    "upper_limit = np.percentile(df1['sqft_basement'],75) + 1.5*iqr\n",
    "lower_limit = np.percentile(df1['sqft_basement'],25) - 1.5*iqr\n",
    "df1 = df1[(df1['sqft_basement']>lower_limit) & (df1['sqft_basement']<upper_limit)]\n",
    "df1.shape"
   ]
  },
  {
   "cell_type": "code",
   "execution_count": 16,
   "id": "2c1588d9",
   "metadata": {},
   "outputs": [
    {
     "data": {
      "text/plain": [
       "(17977, 22)"
      ]
     },
     "execution_count": 16,
     "metadata": {},
     "output_type": "execute_result"
    }
   ],
   "source": [
    "#Remove outliers sqft_above\n",
    "iqr = np.percentile(df1['sqft_above'],75) - np.percentile(df1['sqft_above'],25)\n",
    "upper_limit = np.percentile(df1['sqft_above'],75) + 1.5*iqr\n",
    "lower_limit = np.percentile(df1['sqft_above'],25) - 1.5*iqr\n",
    "df1 = df1[(df1['sqft_above']>lower_limit) & (df1['sqft_above']<upper_limit)]\n",
    "df1.shape"
   ]
  },
  {
   "cell_type": "code",
   "execution_count": 17,
   "id": "c76882b2",
   "metadata": {},
   "outputs": [
    {
     "data": {
      "text/plain": [
       "(17690, 22)"
      ]
     },
     "execution_count": 17,
     "metadata": {},
     "output_type": "execute_result"
    }
   ],
   "source": [
    "#Remove outliers sqft_living15\n",
    "iqr = np.percentile(df1['sqft_living15'],75) - np.percentile(df1['sqft_living15'],25)\n",
    "upper_limit = np.percentile(df1['sqft_living15'],75) + 1.5*iqr\n",
    "lower_limit = np.percentile(df1['sqft_living15'],25) - 1.5*iqr\n",
    "df1 = df1[(df1['sqft_living15']>lower_limit) & (df1['sqft_living15']<upper_limit)]\n",
    "df1.shape"
   ]
  },
  {
   "cell_type": "code",
   "execution_count": 18,
   "id": "0090b099",
   "metadata": {},
   "outputs": [
    {
     "data": {
      "text/plain": [
       "(17243, 22)"
      ]
     },
     "execution_count": 18,
     "metadata": {},
     "output_type": "execute_result"
    }
   ],
   "source": [
    "#Remove outliers sqft_lot15\n",
    "iqr = np.percentile(df1['sqft_lot15'],75) - np.percentile(df1['sqft_lot15'],25)\n",
    "upper_limit = np.percentile(df1['sqft_lot15'],75) + 1.5*iqr\n",
    "lower_limit = np.percentile(df1['sqft_lot15'],25) - 1.5*iqr\n",
    "df1 = df1[(df1['sqft_lot15']>lower_limit) & (df1['sqft_lot15']<upper_limit)]\n",
    "df1.shape"
   ]
  },
  {
   "cell_type": "code",
   "execution_count": 19,
   "id": "6a7929c3",
   "metadata": {},
   "outputs": [
    {
     "data": {
      "text/plain": [
       "(17243, 21)"
      ]
     },
     "execution_count": 19,
     "metadata": {},
     "output_type": "execute_result"
    }
   ],
   "source": [
    "X_num = df1.drop(\"price\", axis = 1)\n",
    "transformer = MinMaxScaler().fit(X_num)\n",
    "X_num_minmax = transformer.transform(X_num)\n",
    "X_num_norm = pd.DataFrame(X_num_minmax,columns=X_num.columns)\n",
    "X_num_normalized = X_num_norm.copy()\n",
    "X_num_normalized.shape"
   ]
  },
  {
   "cell_type": "code",
   "execution_count": 20,
   "id": "33b37d8d",
   "metadata": {},
   "outputs": [
    {
     "data": {
      "text/plain": [
       "LinearRegression()"
      ]
     },
     "execution_count": 20,
     "metadata": {},
     "output_type": "execute_result"
    }
   ],
   "source": [
    "X = X_num_normalized.copy()\n",
    "Y = df1[\"price\"]\n",
    "#Separation between train and test\n",
    "X_train, X_test, y_train, y_test = train_test_split(X, Y, test_size=0.25, random_state=42) \n",
    "#Train model\n",
    "model = LinearRegression()\n",
    "model.fit(X_train,y_train)"
   ]
  },
  {
   "cell_type": "code",
   "execution_count": 21,
   "id": "b995bdd1",
   "metadata": {
    "scrolled": true
   },
   "outputs": [
    {
     "name": "stdout",
     "output_type": "stream",
     "text": [
      "LinearRegression() metrics are: \n",
      "R2 = 0.6699282195028298\n",
      "R2 adjusted = 0.676876164611619\n",
      "RMSE = 132635.29\n",
      "MSE = 17592120678.84\n",
      "MAE = 94690.27\n",
      "KNeighborsRegressor(n_neighbors=9) metrics are: \n",
      "R2 = 0.7274757381515334\n",
      "R2 adjusted = 0.7600754182883132\n",
      "RMSE = 120519.55\n",
      "MSE = 14524960889.2\n",
      "MAE = 78825.59\n",
      "DecisionTreeRegressor(max_depth=10) metrics are: \n",
      "R2 = 0.7743436521801028\n",
      "R2 adjusted = 0.8554431777006601\n",
      "RMSE = 109667.69\n",
      "MSE = 12027001208.08\n",
      "MAE = 70396.15\n",
      "RandomForestRegressor(max_depth=10) metrics are: \n",
      "R2 = 0.8398672672741376\n",
      "R2 adjusted = 0.8954001740748347\n",
      "RMSE = 92383.62\n",
      "MSE = 8534732519.4\n",
      "MAE = 58985.6\n"
     ]
    }
   ],
   "source": [
    "predictions, y_test, r2 = modeling(Y, X, models=[LinearRegression(), KNeighborsRegressor(n_neighbors=9), DecisionTreeRegressor(max_depth=10),RandomForestRegressor(n_estimators=100, max_depth=10)], test_size=0.24)"
   ]
  },
  {
   "cell_type": "markdown",
   "id": "7059ce8c",
   "metadata": {},
   "source": [
    "# ❌Removing outliers II"
   ]
  },
  {
   "cell_type": "markdown",
   "id": "e8b9b213",
   "metadata": {},
   "source": [
    "#### Removing outliers of sqft_living (0.683), sqft_living + sqft_lot (0.694), sqft_living + sqft_lot + sqft_basement (0.683)"
   ]
  },
  {
   "cell_type": "code",
   "execution_count": 22,
   "id": "b868b495",
   "metadata": {},
   "outputs": [
    {
     "data": {
      "text/plain": [
       "(21597, 22)"
      ]
     },
     "execution_count": 22,
     "metadata": {},
     "output_type": "execute_result"
    }
   ],
   "source": [
    "df2 = pd.read_csv('df.csv')\n",
    "df2.shape"
   ]
  },
  {
   "cell_type": "code",
   "execution_count": 23,
   "id": "a605c0be",
   "metadata": {},
   "outputs": [
    {
     "data": {
      "text/plain": [
       "(21015, 22)"
      ]
     },
     "execution_count": 23,
     "metadata": {},
     "output_type": "execute_result"
    }
   ],
   "source": [
    "#Remove outliers sqft_living\n",
    "iqr = np.percentile(df2['sqft_living'],75) - np.percentile(df2['sqft_living'],25)\n",
    "upper_limit = np.percentile(df2['sqft_living'],75) + 1.5*iqr\n",
    "lower_limit = np.percentile(df2['sqft_living'],25) - 1.5*iqr\n",
    "df2 = df2[(df['sqft_living']>lower_limit) & (df2['sqft_living']<upper_limit)]\n",
    "df2.shape"
   ]
  },
  {
   "cell_type": "code",
   "execution_count": 24,
   "id": "b564f5a2",
   "metadata": {},
   "outputs": [
    {
     "data": {
      "text/plain": [
       "(18766, 22)"
      ]
     },
     "execution_count": 24,
     "metadata": {},
     "output_type": "execute_result"
    }
   ],
   "source": [
    "#Remove outliers sqft_lot\n",
    "iqr = np.percentile(df2['sqft_lot'],75) - np.percentile(df2['sqft_lot'],25)\n",
    "upper_limit = np.percentile(df2['sqft_lot'],75) + 1.5*iqr\n",
    "lower_limit = np.percentile(df2['sqft_lot'],25) - 1.5*iqr\n",
    "df2 = df2[(df2['sqft_lot']>lower_limit) & (df2['sqft_lot']<upper_limit)]\n",
    "df2.shape"
   ]
  },
  {
   "cell_type": "code",
   "execution_count": 25,
   "id": "e1634768",
   "metadata": {
    "scrolled": true
   },
   "outputs": [
    {
     "data": {
      "text/plain": [
       "(18417, 22)"
      ]
     },
     "execution_count": 25,
     "metadata": {},
     "output_type": "execute_result"
    }
   ],
   "source": [
    "#Remove outliers sqft_basement\n",
    "iqr = np.percentile(df2['sqft_basement'],75) - np.percentile(df2['sqft_basement'],25)\n",
    "upper_limit = np.percentile(df2['sqft_basement'],75) + 1.5*iqr\n",
    "lower_limit = np.percentile(df2['sqft_basement'],25) - 1.5*iqr\n",
    "df2 = df2[(df2['sqft_basement']>lower_limit) & (df2['sqft_basement']<upper_limit)]\n",
    "df2.shape"
   ]
  },
  {
   "cell_type": "code",
   "execution_count": 26,
   "id": "f4f52b1a",
   "metadata": {
    "scrolled": true
   },
   "outputs": [
    {
     "data": {
      "text/plain": [
       "(18417, 21)"
      ]
     },
     "execution_count": 26,
     "metadata": {},
     "output_type": "execute_result"
    }
   ],
   "source": [
    "X_num = df2.drop(\"price\", axis = 1)\n",
    "transformer = MinMaxScaler().fit(X_num)\n",
    "X_num_minmax = transformer.transform(X_num)\n",
    "X_num_norm = pd.DataFrame(X_num_minmax,columns=X_num.columns)\n",
    "X_num_normalized = X_num_norm.copy()\n",
    "X_num_normalized.shape"
   ]
  },
  {
   "cell_type": "code",
   "execution_count": 27,
   "id": "9015cd5e",
   "metadata": {},
   "outputs": [
    {
     "data": {
      "text/plain": [
       "LinearRegression()"
      ]
     },
     "execution_count": 27,
     "metadata": {},
     "output_type": "execute_result"
    }
   ],
   "source": [
    "X = X_num_normalized.copy()\n",
    "Y = df2[\"price\"]\n",
    "#Separation between train and test\n",
    "X_train, X_test, y_train, y_test = train_test_split(X, Y, test_size=0.25, random_state=42) \n",
    "#Train model\n",
    "model = LinearRegression()\n",
    "model.fit(X_train,y_train)"
   ]
  },
  {
   "cell_type": "code",
   "execution_count": 28,
   "id": "52fe8312",
   "metadata": {},
   "outputs": [
    {
     "name": "stdout",
     "output_type": "stream",
     "text": [
      "LinearRegression() metrics are: \n",
      "R2 = 0.68359138982968\n",
      "R2 adjusted = 0.6868568458606081\n",
      "RMSE = 151420.74\n",
      "MSE = 22928240070.0\n",
      "MAE = 101229.53\n",
      "KNeighborsRegressor(n_neighbors=9) metrics are: \n",
      "R2 = 0.7156699389462395\n",
      "R2 adjusted = 0.756756214534485\n",
      "RMSE = 143539.89\n",
      "MSE = 20603699423.5\n",
      "MAE = 85613.48\n",
      "DecisionTreeRegressor(max_depth=10) metrics are: \n",
      "R2 = 0.7521978278075498\n",
      "R2 adjusted = 0.8583641693327646\n",
      "RMSE = 134002.77\n",
      "MSE = 17956741729.74\n",
      "MAE = 77043.47\n",
      "RandomForestRegressor(max_depth=10) metrics are: \n",
      "R2 = 0.8458711563004288\n",
      "R2 adjusted = 0.9012398236126413\n",
      "RMSE = 105682.52\n",
      "MSE = 11168795716.88\n",
      "MAE = 62316.42\n"
     ]
    }
   ],
   "source": [
    "predictions, y_test, r2 = modeling(Y, X, models=[LinearRegression(), KNeighborsRegressor(n_neighbors=9), DecisionTreeRegressor(max_depth=10),RandomForestRegressor(n_estimators=100, max_depth=10)], test_size=0.24)"
   ]
  },
  {
   "cell_type": "markdown",
   "id": "18e2074d",
   "metadata": {},
   "source": [
    "# 🆙Removing outliers III: sqft_lot"
   ]
  },
  {
   "cell_type": "code",
   "execution_count": 29,
   "id": "a1cdab55",
   "metadata": {},
   "outputs": [
    {
     "data": {
      "text/plain": [
       "(21597, 22)"
      ]
     },
     "execution_count": 29,
     "metadata": {},
     "output_type": "execute_result"
    }
   ],
   "source": [
    "df3 = pd.read_csv('df.csv')\n",
    "df3.shape"
   ]
  },
  {
   "cell_type": "code",
   "execution_count": 30,
   "id": "4347f547",
   "metadata": {},
   "outputs": [
    {
     "data": {
      "text/plain": [
       "(19178, 22)"
      ]
     },
     "execution_count": 30,
     "metadata": {},
     "output_type": "execute_result"
    }
   ],
   "source": [
    "#Remove outliers sqft_lot\n",
    "iqr = np.percentile(df3['sqft_lot'],75) - np.percentile(df3['sqft_lot'],25)\n",
    "upper_limit = np.percentile(df3['sqft_lot'],75) + 1.5*iqr\n",
    "lower_limit = np.percentile(df3['sqft_lot'],25) - 1.5*iqr\n",
    "df3 = df3[(df3['sqft_lot']>lower_limit) & (df3['sqft_lot']<upper_limit)]\n",
    "df3.shape"
   ]
  },
  {
   "cell_type": "code",
   "execution_count": 31,
   "id": "3849e841",
   "metadata": {
    "scrolled": true
   },
   "outputs": [
    {
     "data": {
      "text/plain": [
       "(19178, 21)"
      ]
     },
     "execution_count": 31,
     "metadata": {},
     "output_type": "execute_result"
    }
   ],
   "source": [
    "X_num = df3.drop(\"price\", axis = 1)\n",
    "transformer = MinMaxScaler().fit(X_num)\n",
    "X_num_minmax = transformer.transform(X_num)\n",
    "X_num_norm = pd.DataFrame(X_num_minmax,columns=X_num.columns)\n",
    "X_num_normalized = X_num_norm.copy()\n",
    "X_num_normalized.shape"
   ]
  },
  {
   "cell_type": "code",
   "execution_count": 32,
   "id": "b430a3be",
   "metadata": {},
   "outputs": [
    {
     "data": {
      "text/plain": [
       "LinearRegression()"
      ]
     },
     "execution_count": 32,
     "metadata": {},
     "output_type": "execute_result"
    }
   ],
   "source": [
    "X = X_num_normalized.copy()\n",
    "Y = df3[\"price\"]\n",
    "#Separation between train and test\n",
    "X_train, X_test, y_train, y_test = train_test_split(X, Y, test_size=0.25, random_state=42) \n",
    "#Train model\n",
    "model = LinearRegression()\n",
    "model.fit(X_train,y_train)"
   ]
  },
  {
   "cell_type": "code",
   "execution_count": 33,
   "id": "5afc7abc",
   "metadata": {},
   "outputs": [
    {
     "name": "stdout",
     "output_type": "stream",
     "text": [
      "LinearRegression() metrics are: \n",
      "R2 = 0.7036939165875892\n",
      "R2 adjusted = 0.7085878430949082\n",
      "RMSE = 176687.18\n",
      "MSE = 31218359928.89\n",
      "MAE = 114862.01\n",
      "KNeighborsRegressor(n_neighbors=9) metrics are: \n",
      "R2 = 0.7343509094267462\n",
      "R2 adjusted = 0.7803624117201521\n",
      "RMSE = 167297.3\n",
      "MSE = 27988385620.68\n",
      "MAE = 93474.64\n",
      "DecisionTreeRegressor(max_depth=10) metrics are: \n",
      "R2 = 0.755385572941944\n",
      "R2 adjusted = 0.8761472743785407\n",
      "RMSE = 160537.24\n",
      "MSE = 25772205348.44\n",
      "MAE = 86898.72\n",
      "RandomForestRegressor(max_depth=10) metrics are: \n",
      "R2 = 0.8461649973052946\n",
      "R2 adjusted = 0.9120260503203981\n",
      "RMSE = 127309.95\n",
      "MSE = 16207822763.8\n",
      "MAE = 72295.2\n"
     ]
    }
   ],
   "source": [
    "predictions, y_test, r2 = modeling(Y, X, models=[LinearRegression(), KNeighborsRegressor(n_neighbors=9), DecisionTreeRegressor(max_depth=10),RandomForestRegressor(n_estimators=100, max_depth=10)], test_size=0.24)"
   ]
  },
  {
   "cell_type": "markdown",
   "id": "b04119da",
   "metadata": {},
   "source": [
    "# ❌ Removing outliers IV: \"long\""
   ]
  },
  {
   "cell_type": "code",
   "execution_count": 34,
   "id": "6c356254",
   "metadata": {},
   "outputs": [
    {
     "data": {
      "text/plain": [
       "(21597, 22)"
      ]
     },
     "execution_count": 34,
     "metadata": {},
     "output_type": "execute_result"
    }
   ],
   "source": [
    "df4 = pd.read_csv('df.csv')\n",
    "df4.shape"
   ]
  },
  {
   "cell_type": "code",
   "execution_count": 35,
   "id": "73aca66d",
   "metadata": {},
   "outputs": [
    {
     "data": {
      "text/plain": [
       "(21342, 22)"
      ]
     },
     "execution_count": 35,
     "metadata": {},
     "output_type": "execute_result"
    }
   ],
   "source": [
    "#Remove outliers sqft_lot\n",
    "iqr = np.percentile(df4['long'],75) - np.percentile(df4['long'],25)\n",
    "upper_limit = np.percentile(df4['long'],75) + 1.5*iqr\n",
    "lower_limit = np.percentile(df4['long'],25) - 1.5*iqr\n",
    "df4 = df4[(df4['long']>lower_limit) & (df4['long']<upper_limit)]\n",
    "df4.shape"
   ]
  },
  {
   "cell_type": "code",
   "execution_count": 36,
   "id": "23e27fc0",
   "metadata": {
    "scrolled": true
   },
   "outputs": [
    {
     "data": {
      "text/plain": [
       "(21342, 21)"
      ]
     },
     "execution_count": 36,
     "metadata": {},
     "output_type": "execute_result"
    }
   ],
   "source": [
    "X_num = df4.drop(\"price\", axis = 1)\n",
    "transformer = MinMaxScaler().fit(X_num)\n",
    "X_num_minmax = transformer.transform(X_num)\n",
    "X_num_norm = pd.DataFrame(X_num_minmax,columns=X_num.columns)\n",
    "X_num_normalized = X_num_norm.copy()\n",
    "X_num_normalized.shape"
   ]
  },
  {
   "cell_type": "code",
   "execution_count": 37,
   "id": "de5a2cd0",
   "metadata": {},
   "outputs": [
    {
     "data": {
      "text/plain": [
       "LinearRegression()"
      ]
     },
     "execution_count": 37,
     "metadata": {},
     "output_type": "execute_result"
    }
   ],
   "source": [
    "X = X_num_normalized.copy()\n",
    "Y = df4[\"price\"]\n",
    "#Separation between train and test\n",
    "X_train, X_test, y_train, y_test = train_test_split(X, Y, test_size=0.25, random_state=42) \n",
    "#Train model\n",
    "model = LinearRegression()\n",
    "model.fit(X_train,y_train)"
   ]
  },
  {
   "cell_type": "code",
   "execution_count": 38,
   "id": "fc0381f5",
   "metadata": {},
   "outputs": [
    {
     "name": "stdout",
     "output_type": "stream",
     "text": [
      "LinearRegression() metrics are: \n",
      "R2 = 0.6798136312154377\n",
      "R2 adjusted = 0.702164571868093\n",
      "RMSE = 207507.99\n",
      "MSE = 43059565530.75\n",
      "MAE = 128260.37\n",
      "KNeighborsRegressor(n_neighbors=9) metrics are: \n",
      "R2 = 0.7121142678300036\n",
      "R2 adjusted = 0.7676885753110676\n",
      "RMSE = 196763.02\n",
      "MSE = 38715684858.16\n",
      "MAE = 101617.82\n",
      "DecisionTreeRegressor(max_depth=10) metrics are: \n",
      "R2 = 0.7637645036878917\n",
      "R2 adjusted = 0.8822128088685735\n",
      "RMSE = 178240.33\n",
      "MSE = 31769615529.71\n",
      "MAE = 91771.67\n",
      "RandomForestRegressor(max_depth=10) metrics are: \n",
      "R2 = 0.860127998221487\n",
      "R2 adjusted = 0.9180384416146553\n",
      "RMSE = 137150.94\n",
      "MSE = 18810381120.73\n",
      "MAE = 75620.63\n"
     ]
    }
   ],
   "source": [
    "predictions, y_test, r2 = modeling(Y, X, models=[LinearRegression(), KNeighborsRegressor(n_neighbors=9), DecisionTreeRegressor(max_depth=10),RandomForestRegressor(n_estimators=100, max_depth=10)], test_size=0.24)"
   ]
  },
  {
   "cell_type": "markdown",
   "id": "aeb68a5a",
   "metadata": {},
   "source": [
    "# ❌ Removing outliers V: \"sqft_above\""
   ]
  },
  {
   "cell_type": "code",
   "execution_count": 39,
   "id": "fb997a57",
   "metadata": {},
   "outputs": [
    {
     "data": {
      "text/plain": [
       "(21597, 22)"
      ]
     },
     "execution_count": 39,
     "metadata": {},
     "output_type": "execute_result"
    }
   ],
   "source": [
    "df5 = pd.read_csv('df.csv')\n",
    "df5.shape"
   ]
  },
  {
   "cell_type": "code",
   "execution_count": 40,
   "id": "7c093ca3",
   "metadata": {},
   "outputs": [
    {
     "data": {
      "text/plain": [
       "(20979, 22)"
      ]
     },
     "execution_count": 40,
     "metadata": {},
     "output_type": "execute_result"
    }
   ],
   "source": [
    "#Remove outliers sqft_lot\n",
    "iqr = np.percentile(df5['sqft_above'],75) - np.percentile(df5['sqft_above'],25)\n",
    "upper_limit = np.percentile(df5['sqft_above'],75) + 1.5*iqr\n",
    "lower_limit = np.percentile(df5['sqft_above'],25) - 1.5*iqr\n",
    "df5 = df5[(df5['sqft_above']>lower_limit) & (df5['sqft_above']<upper_limit)]\n",
    "df5.shape"
   ]
  },
  {
   "cell_type": "code",
   "execution_count": 41,
   "id": "54222b21",
   "metadata": {
    "scrolled": true
   },
   "outputs": [
    {
     "data": {
      "text/plain": [
       "(20979, 21)"
      ]
     },
     "execution_count": 41,
     "metadata": {},
     "output_type": "execute_result"
    }
   ],
   "source": [
    "X_num = df5.drop(\"price\", axis = 1)\n",
    "transformer = MinMaxScaler().fit(X_num)\n",
    "X_num_minmax = transformer.transform(X_num)\n",
    "X_num_norm = pd.DataFrame(X_num_minmax,columns=X_num.columns)\n",
    "X_num_normalized = X_num_norm.copy()\n",
    "X_num_normalized.shape"
   ]
  },
  {
   "cell_type": "code",
   "execution_count": 42,
   "id": "fa6f1810",
   "metadata": {},
   "outputs": [
    {
     "data": {
      "text/plain": [
       "LinearRegression()"
      ]
     },
     "execution_count": 42,
     "metadata": {},
     "output_type": "execute_result"
    }
   ],
   "source": [
    "X = X_num_normalized.copy()\n",
    "Y = df5[\"price\"]\n",
    "#Separation between train and test\n",
    "X_train, X_test, y_train, y_test = train_test_split(X, Y, test_size=0.25, random_state=42) \n",
    "#Train model\n",
    "model = LinearRegression()\n",
    "model.fit(X_train,y_train)"
   ]
  },
  {
   "cell_type": "code",
   "execution_count": 43,
   "id": "4330f301",
   "metadata": {},
   "outputs": [
    {
     "name": "stdout",
     "output_type": "stream",
     "text": [
      "LinearRegression() metrics are: \n",
      "R2 = 0.6895683250533602\n",
      "R2 adjusted = 0.6877072540393725\n",
      "RMSE = 167424.89\n",
      "MSE = 28031094082.0\n",
      "MAE = 110865.38\n",
      "KNeighborsRegressor(n_neighbors=9) metrics are: \n",
      "R2 = 0.7291967808967044\n",
      "R2 adjusted = 0.7735998400951255\n",
      "RMSE = 156373.78\n",
      "MSE = 24452757643.69\n",
      "MAE = 90834.81\n",
      "DecisionTreeRegressor(max_depth=10) metrics are: \n",
      "R2 = 0.7686143263467645\n",
      "R2 adjusted = 0.8627348139875252\n",
      "RMSE = 144545.72\n",
      "MSE = 20893465811.81\n",
      "MAE = 84605.66\n",
      "RandomForestRegressor(max_depth=10) metrics are: \n",
      "R2 = 0.8502487929290976\n",
      "R2 adjusted = 0.9019789813953669\n",
      "RMSE = 116284.59\n",
      "MSE = 13522106515.13\n",
      "MAE = 70054.56\n"
     ]
    }
   ],
   "source": [
    "predictions, y_test, r2 = modeling(Y, X, models=[LinearRegression(), KNeighborsRegressor(n_neighbors=9), DecisionTreeRegressor(max_depth=10),RandomForestRegressor(n_estimators=100, max_depth=10)], test_size=0.24)"
   ]
  },
  {
   "cell_type": "markdown",
   "id": "74b66058",
   "metadata": {},
   "source": [
    "# 🆙🟩Removing outliers VI: sqft_lot + sqft_lot15"
   ]
  },
  {
   "cell_type": "code",
   "execution_count": 44,
   "id": "ce78abc6",
   "metadata": {},
   "outputs": [
    {
     "data": {
      "text/plain": [
       "(21597, 22)"
      ]
     },
     "execution_count": 44,
     "metadata": {},
     "output_type": "execute_result"
    }
   ],
   "source": [
    "df6 = pd.read_csv('df.csv')\n",
    "df6.shape"
   ]
  },
  {
   "cell_type": "code",
   "execution_count": 45,
   "id": "36e49e23",
   "metadata": {},
   "outputs": [
    {
     "data": {
      "text/plain": [
       "(19178, 22)"
      ]
     },
     "execution_count": 45,
     "metadata": {},
     "output_type": "execute_result"
    }
   ],
   "source": [
    "#Remove outliers sqft_lot\n",
    "iqr = np.percentile(df6['sqft_lot'],75) - np.percentile(df6['sqft_lot'],25)\n",
    "upper_limit = np.percentile(df6['sqft_lot'],75) + 1.5*iqr\n",
    "lower_limit = np.percentile(df6['sqft_lot'],25) - 1.5*iqr\n",
    "df6 = df6[(df6['sqft_lot']>lower_limit) & (df6['sqft_lot']<upper_limit)]\n",
    "df6.shape"
   ]
  },
  {
   "cell_type": "code",
   "execution_count": 46,
   "id": "36b9915b",
   "metadata": {},
   "outputs": [
    {
     "data": {
      "text/plain": [
       "(18623, 22)"
      ]
     },
     "execution_count": 46,
     "metadata": {},
     "output_type": "execute_result"
    }
   ],
   "source": [
    "#Remove outliers sqft_lot15\n",
    "iqr = np.percentile(df6['sqft_lot15'],75) - np.percentile(df6['sqft_lot15'],25)\n",
    "upper_limit = np.percentile(df6['sqft_lot15'],75) + 1.5*iqr\n",
    "lower_limit = np.percentile(df6['sqft_lot15'],25) - 1.5*iqr\n",
    "df6 = df6[(df6['sqft_lot15']>lower_limit) & (df6['sqft_lot15']<upper_limit)]\n",
    "df6.shape"
   ]
  },
  {
   "cell_type": "code",
   "execution_count": 47,
   "id": "c2f36411",
   "metadata": {},
   "outputs": [],
   "source": [
    "df6.to_csv('df1_outliers_best.csv', index=False) # this is the point where we will start the following tries"
   ]
  },
  {
   "cell_type": "code",
   "execution_count": 48,
   "id": "b3657e7e",
   "metadata": {
    "scrolled": true
   },
   "outputs": [
    {
     "data": {
      "text/plain": [
       "(18623, 21)"
      ]
     },
     "execution_count": 48,
     "metadata": {},
     "output_type": "execute_result"
    }
   ],
   "source": [
    "X_num = df6.drop(\"price\", axis = 1)\n",
    "transformer = MinMaxScaler().fit(X_num)\n",
    "X_num_minmax = transformer.transform(X_num)\n",
    "X_num_norm = pd.DataFrame(X_num_minmax,columns=X_num.columns)\n",
    "X_num_normalized = X_num_norm.copy()\n",
    "X_num_normalized.shape"
   ]
  },
  {
   "cell_type": "code",
   "execution_count": 49,
   "id": "ac9dddb4",
   "metadata": {},
   "outputs": [
    {
     "data": {
      "text/plain": [
       "LinearRegression()"
      ]
     },
     "execution_count": 49,
     "metadata": {},
     "output_type": "execute_result"
    }
   ],
   "source": [
    "X = X_num_normalized.copy()\n",
    "Y = df6[\"price\"]\n",
    "#Separation between train and test\n",
    "X_train, X_test, y_train, y_test = train_test_split(X, Y, test_size=0.25, random_state=42) \n",
    "#Train model\n",
    "model = LinearRegression()\n",
    "model.fit(X_train,y_train)"
   ]
  },
  {
   "cell_type": "code",
   "execution_count": 50,
   "id": "ba848036",
   "metadata": {
    "scrolled": true
   },
   "outputs": [
    {
     "name": "stdout",
     "output_type": "stream",
     "text": [
      "LinearRegression() metrics are: \n",
      "R2 = 0.7153152668879232\n",
      "R2 adjusted = 0.7107635819794387\n",
      "RMSE = 157957.35\n",
      "MSE = 24950525113.61\n",
      "MAE = 106799.61\n",
      "KNeighborsRegressor(n_neighbors=9) metrics are: \n",
      "R2 = 0.7531940964192356\n",
      "R2 adjusted = 0.7820519566854709\n",
      "RMSE = 147073.87\n",
      "MSE = 21630724022.9\n",
      "MAE = 87211.43\n",
      "DecisionTreeRegressor(max_depth=10) metrics are: \n",
      "R2 = 0.7915757018238125\n",
      "R2 adjusted = 0.8892768502057569\n",
      "RMSE = 135154.94\n",
      "MSE = 18266858321.08\n",
      "MAE = 78279.7\n",
      "RandomForestRegressor(max_depth=10) metrics are: \n",
      "R2 = 0.8741329383369391\n",
      "R2 adjusted = 0.9182855686839216\n",
      "RMSE = 105030.11\n",
      "MSE = 11031323136.55\n",
      "MAE = 64531.59\n"
     ]
    }
   ],
   "source": [
    "predictions, y_test, r2 = modeling(Y, X, models=[LinearRegression(), KNeighborsRegressor(n_neighbors=9), DecisionTreeRegressor(max_depth=10),RandomForestRegressor(n_estimators=100, max_depth=10)], test_size=0.24)"
   ]
  },
  {
   "cell_type": "markdown",
   "id": "0eb5422f",
   "metadata": {},
   "source": [
    "# With feature engineering\n"
   ]
  },
  {
   "cell_type": "code",
   "execution_count": null,
   "id": "c46396cb",
   "metadata": {},
   "outputs": [],
   "source": [
    "df[\"yr_diff_renovated\"] = df[\"yr_renovated\"] - df[\"yr_built\"]\n",
    "df[\"yr_diff_bought\"] = df[\"year_bought\"] - df[\"yr_built\"]"
   ]
  },
  {
   "cell_type": "code",
   "execution_count": null,
   "id": "ffd4f526",
   "metadata": {},
   "outputs": [],
   "source": [
    "df[\"sqrt_diff\"] = df[\"sqft_lot\"] - df[\"sqft_living\"]\n",
    "df[\"sqrt_diff_15\"] = df[\"sqft_lot15\"] - df[\"sqft_living15\"]"
   ]
  },
  {
   "cell_type": "code",
   "execution_count": null,
   "id": "f6c72478",
   "metadata": {},
   "outputs": [],
   "source": [
    "df[\"yr_diff_renovated\"]= df[\"yr_diff_renovated\"].apply(lambda x: x if x>0 else 0)\n",
    "df[\"yr_renovated_binary\"] = df[\"yr_diff_renovated\"].apply(lambda x: 1 if x>0 else 0)\n",
    "df[\"basement_binary\"] = df[\"sqft_basement\"].apply(lambda x: 1 if x>0 else 0)"
   ]
  },
  {
   "cell_type": "markdown",
   "id": "a24fd4e9",
   "metadata": {},
   "source": [
    "### <span style=\"color:rgb(255, 0, 255)\">--- Transforming Skewed data with log transformation"
   ]
  },
  {
   "cell_type": "code",
   "execution_count": null,
   "id": "46ecf6cf",
   "metadata": {},
   "outputs": [],
   "source": [
    "# sqft_living, sqft_above, sqft_living15\n",
    "df[\"sqft_living_log\"] = np.log((df.sqft_living))\n",
    "df[\"sqft_above_log\"] = np.log((df.sqft_above))\n",
    "df[\"sqft_living15_log\"] = np.log((df.sqft_living15))\n"
   ]
  },
  {
   "cell_type": "code",
   "execution_count": null,
   "id": "62c33bc9",
   "metadata": {
    "scrolled": true
   },
   "outputs": [],
   "source": [
    "fig = plt.figure(figsize=(4, 3))\n",
    "plt.hist(df.sqft_living, bins=50, color='blue')\n",
    "plt.title('Histogram of sqft_living')\n",
    "plt.xlabel('Value (real)')\n",
    "plt.ylabel('Frequency')\n",
    "plt.show()\n",
    "\n",
    "fig = plt.figure(figsize=(4, 3))\n",
    "plt.hist(df.sqft_living_log, bins=50, color='green')\n",
    "plt.title('Histogram of sqft_living_log')\n",
    "plt.xlabel('Value (log-scale)')\n",
    "plt.ylabel('Frequency')\n",
    "plt.show()\n"
   ]
  },
  {
   "cell_type": "code",
   "execution_count": null,
   "id": "22ec0101",
   "metadata": {
    "scrolled": true
   },
   "outputs": [],
   "source": [
    "fig = plt.figure(figsize=(4, 3))\n",
    "plt.hist(df.sqft_above, bins=50, color='blue')\n",
    "plt.title('Histogram of sqft_above')\n",
    "plt.xlabel('Value (real)')\n",
    "plt.ylabel('Frequency')\n",
    "plt.show()\n",
    "\n",
    "fig = plt.figure(figsize=(4, 3))\n",
    "plt.hist(df.sqft_above_log, bins=50, color='green')\n",
    "plt.title('Histogram of sqft_above_log')\n",
    "plt.xlabel('Value (log-scale)')\n",
    "plt.ylabel('Frequency')\n",
    "plt.show()\n"
   ]
  },
  {
   "cell_type": "code",
   "execution_count": null,
   "id": "811dace5",
   "metadata": {
    "scrolled": true
   },
   "outputs": [],
   "source": [
    "fig = plt.figure(figsize=(4, 3))\n",
    "plt.hist(df.sqft_living15, bins=50, color='blue')\n",
    "plt.title('Histogram of sqft_living15')\n",
    "plt.xlabel('Value (real)')\n",
    "plt.ylabel('Frequency')\n",
    "plt.show()\n",
    "\n",
    "fig = plt.figure(figsize=(4, 3))\n",
    "plt.hist(df.sqft_living15_log, bins=50, color='green')\n",
    "plt.title('Histogram of sqft_living15_log')\n",
    "plt.xlabel('Value (log-scale)')\n",
    "plt.ylabel('Frequency')\n",
    "plt.show()\n"
   ]
  },
  {
   "cell_type": "code",
   "execution_count": null,
   "id": "400b2d04",
   "metadata": {},
   "outputs": [],
   "source": [
    "# let's study the correlation again with new columns\n",
    "corr = df.corr()\n",
    "\n",
    "# Crear una máscara para ocultar la mitad superior de la matriz\n",
    "mask = np.zeros_like(corr)\n",
    "mask[np.triu_indices_from(mask)] = True # optional, to hide repeat half of the matrix\n",
    "\n",
    "# Crear un mapa de calor\n",
    "plt.figure(figsize=(18, 13))\n",
    "sns.heatmap(corr, annot=True, cmap=\"YlGnBu\", mask=mask)\n",
    "\n",
    "# Mostrar el mapa de calor\n",
    "plt.show()"
   ]
  },
  {
   "cell_type": "markdown",
   "id": "449c07d8",
   "metadata": {},
   "source": [
    "<span style=\"color:rgb(255, 0, 255)\"> sqft_living_log is highly correlated with sqft_living (obviously), bedrooms, bathrooms, sqft_above, sqft_living15, sqft_living15_log, grade"
   ]
  },
  {
   "cell_type": "markdown",
   "id": "005f45b8",
   "metadata": {},
   "source": [
    "### <span style=\"color:rgb(255, 0, 255)\">--- Load the continuous and discrete variables into numericals and categorical variables</span>"
   ]
  },
  {
   "cell_type": "code",
   "execution_count": null,
   "id": "26e18cc3",
   "metadata": {},
   "outputs": [],
   "source": [
    "# Let's update this split\n",
    "num_cont = df[[\"sqft_living_log\", \"sqft_lot\", \"sqft_basement\", \"sqft_lot15\", \"zipcode\", \"yr_built\", \"yr_renovated\", \"year_bought\", \"month_bought\", \"day_bought\", \"yr_diff_renovated\", \"yr_diff_bought\", \"sqrt_diff\", \"sqrt_diff_15\"]]\n",
    "num_dis = df[[\"bedrooms\", \"floors\", \"waterfront\", \"view\", \"condition\", \"yr_renovated_binary\"]]\n",
    "target = df['price']\n",
    "X_num = df.copy()\n",
    "X_num = X_num.drop(columns=['price', \"sqft_living\", \"sqft_basement\"], axis=1)\n",
    "X_num.head()"
   ]
  },
  {
   "cell_type": "code",
   "execution_count": null,
   "id": "36f9b872",
   "metadata": {},
   "outputs": [],
   "source": [
    "num_cont.shape"
   ]
  },
  {
   "cell_type": "code",
   "execution_count": null,
   "id": "48537425",
   "metadata": {},
   "outputs": [],
   "source": [
    "num_dis.shape"
   ]
  },
  {
   "cell_type": "code",
   "execution_count": null,
   "id": "76f0e8d1",
   "metadata": {
    "scrolled": true
   },
   "outputs": [],
   "source": [
    "target.shape"
   ]
  },
  {
   "cell_type": "code",
   "execution_count": null,
   "id": "7d5e26df",
   "metadata": {},
   "outputs": [],
   "source": [
    "X_num.shape"
   ]
  },
  {
   "cell_type": "markdown",
   "id": "02db38ac",
   "metadata": {},
   "source": [
    "### <span style=\"color:rgb(255, 0, 255)\">--- Scaling"
   ]
  },
  {
   "cell_type": "code",
   "execution_count": null,
   "id": "b42f3fba",
   "metadata": {},
   "outputs": [],
   "source": [
    "X_num.columns"
   ]
  },
  {
   "cell_type": "code",
   "execution_count": null,
   "id": "1be4dc84",
   "metadata": {},
   "outputs": [],
   "source": [
    "transformer = MinMaxScaler().fit(X_num)\n",
    "X_num_minmax = transformer.transform(X_num)\n",
    "X_num_norm = pd.DataFrame(X_num_minmax,columns=X_num.columns)\n",
    "X_num_normalized = X_num_norm.copy()\n",
    "X_num_normalized.shape"
   ]
  },
  {
   "cell_type": "markdown",
   "id": "f2b006b1",
   "metadata": {},
   "source": [
    "### <span style=\"color:rgb(255, 0, 255)\">--- Try test split\n"
   ]
  },
  {
   "cell_type": "code",
   "execution_count": null,
   "id": "8b1a851f",
   "metadata": {
    "scrolled": true
   },
   "outputs": [],
   "source": [
    "X = X_num_normalized.copy()\n",
    "Y = target\n",
    "#Separation between train and test\n",
    "X_train, X_test, y_train, y_test = train_test_split(X, Y, test_size=0.25, random_state=42) \n",
    "#Train model\n",
    "model = LinearRegression()\n",
    "model.fit(X_train,y_train)"
   ]
  },
  {
   "cell_type": "code",
   "execution_count": null,
   "id": "d610aafd",
   "metadata": {},
   "outputs": [],
   "source": [
    "#Test model\n",
    "predictions = model.predict(X_test)\n",
    "predictions.shape"
   ]
  },
  {
   "cell_type": "code",
   "execution_count": null,
   "id": "908ccec0",
   "metadata": {},
   "outputs": [],
   "source": [
    "# evaluating sklearn's LR model\n",
    "r2 = r2_score(y_test, predictions)\n",
    "RMSE = mean_squared_error(y_test, predictions, squared=False)\n",
    "MSE = mean_squared_error(y_test, predictions)\n",
    "print(\"r2 = \", r2)\n",
    "print(\"RMSE = \", RMSE)\n",
    "print(\"MSE = \", MSE)"
   ]
  },
  {
   "cell_type": "markdown",
   "id": "abb3c952",
   "metadata": {},
   "source": [
    "### <span style=\"color:rgb(255, 0, 255)\">--- Trying different models\n"
   ]
  },
  {
   "cell_type": "code",
   "execution_count": null,
   "id": "da089911",
   "metadata": {},
   "outputs": [],
   "source": [
    "def modeling(y, X, models=[], test_size=0.25):\n",
    "    for model in models:\n",
    "        X_train, X_test, y_train, y_test = train_test_split(X, y, test_size=test_size, random_state=42)\n",
    "        model.fit(X_train, y_train )\n",
    "        predictions = model.predict(X_test)\n",
    "        r2 = r2_score(y_test, predictions)\n",
    "        # r2_adj = 1 - (1-r2)*(len(y_test)-1)/(len(y_test)-X_test.shape[1]-1)\n",
    "        r2_adj =  1 - (1-model.score(X, y))*(len(y)-1)/(len(y)-X.shape[1]-1)\n",
    "        RMSE = mean_squared_error(y_test, predictions, squared=False)\n",
    "        MSE = mean_squared_error(y_test, predictions)\n",
    "        MAE = mean_absolute_error(y_test, predictions)\n",
    "        print(model, 'metrics are: '), print(\"R2 =\", round(r2,2)), print(\"R2 adjusted =\", round(r2_adj,2)), print(\"RMSE =\", round(RMSE,2)), print(\"MSE =\", round(MSE,2)), print(\"MAE =\", round(MAE,2))\n",
    "    return predictions, y_test, r2"
   ]
  },
  {
   "cell_type": "code",
   "execution_count": null,
   "id": "d7eb3989",
   "metadata": {
    "scrolled": true
   },
   "outputs": [],
   "source": [
    "from sklearn.neighbors import KNeighborsRegressor\n",
    "from sklearn.ensemble import RandomForestRegressor\n",
    "from sklearn.tree import DecisionTreeRegressor\n",
    "predictions, y_test, r2 = modeling(Y, X, models=[LinearRegression(), KNeighborsRegressor(n_neighbors=9), DecisionTreeRegressor(max_depth=10),RandomForestRegressor(n_estimators=100, max_depth=10)], test_size=0.24)"
   ]
  },
  {
   "cell_type": "code",
   "execution_count": null,
   "id": "84d64500",
   "metadata": {
    "scrolled": true
   },
   "outputs": [],
   "source": [
    "# Coefficient values\n",
    "\n",
    "reg = LinearRegression()\n",
    "reg.fit(X_train, y_train)\n",
    "\n",
    "# Get the coefficients and feature names\n",
    "coef = reg.coef_\n",
    "feature_names = df.columns\n",
    "\n",
    "# Print the coefficients and feature names\n",
    "for feature, coef in zip(feature_names, coef):\n",
    "    print(f\"{feature}: {coef:.2f}\")\n",
    "    \n",
    "# high negative of positive coef: bedrooms,sqft_living, sqft_lot, floors, waterfront, view, grade, sqft_above, yr_built, yr_renovated, zipcode, lat, sqft_lot15, day_bought, year_bought, yr_diff_renovated, yr_diff_bought, sqrt_diff, sqrt_diff_15, yr_renovated_binary     "
   ]
  },
  {
   "cell_type": "code",
   "execution_count": null,
   "id": "33ac45e1",
   "metadata": {},
   "outputs": [],
   "source": [
    "# Feature importance\n",
    "\n",
    "from sklearn.ensemble import RandomForestClassifier\n",
    "\n",
    "# Fit a random forest classifier\n",
    "rf = RandomForestClassifier(n_estimators=100, random_state=42)\n",
    "rf.fit(X_train, y_train)\n",
    "\n",
    "# Get the feature importance scores\n",
    "importances = rf.feature_importances_\n",
    "\n",
    "# Print the feature importance scores\n",
    "for feature, importance in zip(df.columns, importances):\n",
    "    print(f\"{feature}: {importance:.2f}\")"
   ]
  },
  {
   "cell_type": "code",
   "execution_count": null,
   "id": "5fe6262a",
   "metadata": {},
   "outputs": [],
   "source": [
    "data_650 = df.copy()\n",
    "data_650 = df[df['price'] > 650000]\n",
    "data_650.shape\n"
   ]
  },
  {
   "cell_type": "code",
   "execution_count": null,
   "id": "a36f6065",
   "metadata": {
    "scrolled": true
   },
   "outputs": [],
   "source": [
    "data_650.to_csv('table_SQL.csv', index=False)"
   ]
  },
  {
   "cell_type": "markdown",
   "id": "ede54d11",
   "metadata": {},
   "source": [
    "### <span style=\"color:rgb(255, 0, 255)\">--- Run the model based on feature importance\n"
   ]
  },
  {
   "cell_type": "code",
   "execution_count": null,
   "id": "90fb688c",
   "metadata": {
    "scrolled": true
   },
   "outputs": [],
   "source": [
    "# let's dive in feature importance of linnear regression model\n",
    "\n",
    "\n",
    "X_feature = X_num\n",
    "y_feature = target\n",
    "\n",
    "# create a linear regression object\n",
    "reg = LinearRegression()\n",
    "\n",
    "# fit the linear regression model on the data\n",
    "reg.fit(X_feature, y_feature)\n",
    "\n",
    "# print the coefficients and their corresponding feature names\n",
    "coefficients = pd.DataFrame({'feature': X_feature.columns, 'coefficient': reg.coef_})\n",
    "coefficients = coefficients.sort_values('coefficient', ascending=False)\n",
    "print(coefficients)\n"
   ]
  },
  {
   "cell_type": "code",
   "execution_count": null,
   "id": "db986da5",
   "metadata": {},
   "outputs": [],
   "source": [
    "#selecting values:\n",
    "from sklearn.feature_selection import SelectFromModel\n",
    "selector = SelectFromModel(reg, threshold=0.5*reg.coef_.max())\n",
    "selector.fit(X_feature, y_feature)\n",
    "\n",
    "# print the selected feature names\n",
    "selected_features = X_feature.columns[selector.get_support()]\n",
    "print(selected_features)"
   ]
  },
  {
   "cell_type": "code",
   "execution_count": null,
   "id": "bc85f353",
   "metadata": {},
   "outputs": [],
   "source": [
    "X_num1 = df[['waterfront', 'grade', 'lat', 'long', 'yr_renovated_binary','basement_binary', 'sqft_living_log', 'sqft_above_log','sqft_living15_log']]"
   ]
  },
  {
   "cell_type": "code",
   "execution_count": null,
   "id": "df13cc89",
   "metadata": {},
   "outputs": [],
   "source": [
    "X_num1 = df[['waterfront', 'lat', 'yr_renovated_binary', 'sqft_living_log']]"
   ]
  },
  {
   "cell_type": "code",
   "execution_count": null,
   "id": "19d1d9bf",
   "metadata": {},
   "outputs": [],
   "source": [
    "transformer = MinMaxScaler().fit(X_num1)\n",
    "X_num_minmax = transformer.transform(X_num1)\n",
    "X_num_norm = pd.DataFrame(X_num_minmax,columns=X_num1.columns)\n",
    "X_num_normalized = X_num_norm.copy()\n",
    "X_num_normalized.shape"
   ]
  },
  {
   "cell_type": "code",
   "execution_count": null,
   "id": "d0ba1b0f",
   "metadata": {
    "scrolled": true
   },
   "outputs": [],
   "source": [
    "X = X_num_normalized.copy()\n",
    "Y = target\n",
    "#Separation between train and test\n",
    "X_train, X_test, y_train, y_test = train_test_split(X, Y, test_size=0.25, random_state=42) \n",
    "#Train model\n",
    "model = LinearRegression()\n",
    "model.fit(X_train,y_train)"
   ]
  },
  {
   "cell_type": "code",
   "execution_count": null,
   "id": "71c00814",
   "metadata": {},
   "outputs": [],
   "source": [
    "#Test model\n",
    "predictions = model.predict(X_test)\n",
    "predictions.shape"
   ]
  },
  {
   "cell_type": "code",
   "execution_count": null,
   "id": "70b9d855",
   "metadata": {},
   "outputs": [],
   "source": [
    "# evaluating sklearn's LR model\n",
    "r2 = r2_score(y_test, predictions)\n",
    "RMSE = mean_squared_error(y_test, predictions, squared=False)\n",
    "MSE = mean_squared_error(y_test, predictions)\n",
    "print(\"r2 = \", r2)\n",
    "print(\"RMSE = \", RMSE)\n",
    "print(\"MSE = \", MSE)"
   ]
  }
 ],
 "metadata": {
  "kernelspec": {
   "display_name": "Python 3 (ipykernel)",
   "language": "python",
   "name": "python3"
  },
  "language_info": {
   "codemirror_mode": {
    "name": "ipython",
    "version": 3
   },
   "file_extension": ".py",
   "mimetype": "text/x-python",
   "name": "python",
   "nbconvert_exporter": "python",
   "pygments_lexer": "ipython3",
   "version": "3.9.13"
  }
 },
 "nbformat": 4,
 "nbformat_minor": 5
}
