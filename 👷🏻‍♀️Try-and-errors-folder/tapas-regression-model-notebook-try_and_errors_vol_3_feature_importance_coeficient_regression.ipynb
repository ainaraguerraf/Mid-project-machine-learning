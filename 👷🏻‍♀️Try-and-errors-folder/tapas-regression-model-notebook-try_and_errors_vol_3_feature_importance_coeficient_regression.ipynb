{
 "cells": [
  {
   "cell_type": "markdown",
   "id": "f943477d",
   "metadata": {},
   "source": [
    "# <span style=\"color:rgb(255, 0, 255)\">VOL 3.</span> "
   ]
  },
  {
   "cell_type": "markdown",
   "id": "3368c072",
   "metadata": {},
   "source": [
    "# <span style=\"color:rgb(255, 0, 255)\">This document contains the different tries we made regarding feature importance and coeficient regression evaluation"
   ]
  },
  {
   "cell_type": "markdown",
   "id": "113cecaf",
   "metadata": {},
   "source": [
    "Here we only have the code related to machine learning model tries. If you want to review all the steps we took please review the final notebook."
   ]
  },
  {
   "cell_type": "markdown",
   "id": "50d68df0",
   "metadata": {},
   "source": [
    "### <span style=\"color:rgb(255, 0, 255)\">--- Import the necessary libraries</span>"
   ]
  },
  {
   "cell_type": "code",
   "execution_count": 6,
   "id": "b1d05fb6",
   "metadata": {},
   "outputs": [],
   "source": [
    "import pandas as pd\n",
    "import numpy as np\n",
    "\n",
    "\n",
    "import matplotlib.pyplot as plt\n",
    "import seaborn as sns\n",
    "import scipy.stats as stats\n",
    "import matplotlib.ticker as mk\n",
    "pd.set_option('display.max_columns', None)\n",
    "\n",
    "import warnings\n",
    "warnings.filterwarnings('ignore')\n",
    "%matplotlib inline\n",
    "\n",
    "from sklearn.preprocessing import Normalizer\n",
    "from sklearn.preprocessing import MinMaxScaler\n",
    "from sklearn.preprocessing import StandardScaler\n",
    "from sklearn.preprocessing import OneHotEncoder\n",
    "from sklearn.model_selection import train_test_split\n",
    "from sklearn.linear_model import LinearRegression\n",
    "from sklearn.metrics import mean_squared_error, r2_score, mean_absolute_error\n",
    "\n",
    "from sklearn.neighbors import KNeighborsRegressor\n",
    "from sklearn.ensemble import RandomForestRegressor\n",
    "from sklearn.tree import DecisionTreeRegressor\n",
    "\n",
    "import os #we will use the function listdir to list files in a folder\n",
    "import math #to apply absolute value"
   ]
  },
  {
   "cell_type": "markdown",
   "id": "0b9c5387",
   "metadata": {},
   "source": [
    "### <span style=\"color:rgb(255, 0, 255)\">--- Function we use for modeling results</span>\n"
   ]
  },
  {
   "cell_type": "code",
   "execution_count": 7,
   "id": "740784c3",
   "metadata": {},
   "outputs": [],
   "source": [
    "def modeling(y, X, models=[], test_size=0.25):\n",
    "    for model in models:\n",
    "        X_train, X_test, y_train, y_test = train_test_split(X, y, test_size=test_size, random_state=42)\n",
    "        model.fit(X_train, y_train )\n",
    "        predictions = model.predict(X_test)\n",
    "        r2 = r2_score(y_test, predictions)\n",
    "        # r2_adj = 1 - (1-r2)*(len(y_test)-1)/(len(y_test)-X_test.shape[1]-1)\n",
    "        r2_adj =  1 - (1-model.score(X, y))*(len(y)-1)/(len(y)-X.shape[1]-1)\n",
    "        RMSE = mean_squared_error(y_test, predictions, squared=False)\n",
    "        MSE = mean_squared_error(y_test, predictions)\n",
    "        MAE = mean_absolute_error(y_test, predictions)\n",
    "        print(model, 'metrics are: '), print(\"R2 =\", r2), print(\"R2 adjusted =\", r2_adj), print(\"RMSE =\", round(RMSE,2)), print(\"MSE =\", round(MSE,2)), print(\"MAE =\", round(MAE,2))\n",
    "    return predictions, y_test, r2"
   ]
  },
  {
   "cell_type": "markdown",
   "id": "227f8486",
   "metadata": {},
   "source": [
    "### <span style=\"color:rgb(255, 0, 255)\">--- Load the database</span>"
   ]
  },
  {
   "cell_type": "code",
   "execution_count": 8,
   "id": "9d97aeec",
   "metadata": {
    "scrolled": true
   },
   "outputs": [
    {
     "data": {
      "text/html": [
       "<div>\n",
       "<style scoped>\n",
       "    .dataframe tbody tr th:only-of-type {\n",
       "        vertical-align: middle;\n",
       "    }\n",
       "\n",
       "    .dataframe tbody tr th {\n",
       "        vertical-align: top;\n",
       "    }\n",
       "\n",
       "    .dataframe thead th {\n",
       "        text-align: right;\n",
       "    }\n",
       "</style>\n",
       "<table border=\"1\" class=\"dataframe\">\n",
       "  <thead>\n",
       "    <tr style=\"text-align: right;\">\n",
       "      <th></th>\n",
       "      <th>bedrooms</th>\n",
       "      <th>bathrooms</th>\n",
       "      <th>sqft_living</th>\n",
       "      <th>sqft_lot</th>\n",
       "      <th>floors</th>\n",
       "      <th>view</th>\n",
       "      <th>condition</th>\n",
       "      <th>grade</th>\n",
       "      <th>sqft_above</th>\n",
       "      <th>sqft_basement</th>\n",
       "      <th>yr_built</th>\n",
       "      <th>yr_renovated</th>\n",
       "      <th>zipcode</th>\n",
       "      <th>lat</th>\n",
       "      <th>long</th>\n",
       "      <th>sqft_living15</th>\n",
       "      <th>sqft_lot15</th>\n",
       "      <th>price</th>\n",
       "      <th>day_bought</th>\n",
       "      <th>month_bought</th>\n",
       "      <th>yr_diff_renovated</th>\n",
       "      <th>yr_diff_bought</th>\n",
       "      <th>sqrt_diff</th>\n",
       "      <th>sqrt_diff_15</th>\n",
       "      <th>sqft_living_log</th>\n",
       "      <th>sqft_above_log</th>\n",
       "      <th>sqft_living15_log</th>\n",
       "      <th>0</th>\n",
       "      <th>1</th>\n",
       "      <th>2014</th>\n",
       "      <th>2015</th>\n",
       "      <th>0.1</th>\n",
       "      <th>1.1</th>\n",
       "      <th>0.2</th>\n",
       "      <th>1.2</th>\n",
       "      <th>0.3</th>\n",
       "      <th>1.3</th>\n",
       "    </tr>\n",
       "  </thead>\n",
       "  <tbody>\n",
       "    <tr>\n",
       "      <th>0</th>\n",
       "      <td>3</td>\n",
       "      <td>1.00</td>\n",
       "      <td>1180</td>\n",
       "      <td>5650</td>\n",
       "      <td>1.0</td>\n",
       "      <td>0</td>\n",
       "      <td>3</td>\n",
       "      <td>7</td>\n",
       "      <td>1180</td>\n",
       "      <td>0</td>\n",
       "      <td>1955</td>\n",
       "      <td>0</td>\n",
       "      <td>98178</td>\n",
       "      <td>47.5112</td>\n",
       "      <td>-122.257</td>\n",
       "      <td>1340</td>\n",
       "      <td>5650</td>\n",
       "      <td>221900</td>\n",
       "      <td>13</td>\n",
       "      <td>10</td>\n",
       "      <td>0</td>\n",
       "      <td>59</td>\n",
       "      <td>4470</td>\n",
       "      <td>4310</td>\n",
       "      <td>7.073270</td>\n",
       "      <td>7.073270</td>\n",
       "      <td>7.200425</td>\n",
       "      <td>1</td>\n",
       "      <td>0</td>\n",
       "      <td>1</td>\n",
       "      <td>0</td>\n",
       "      <td>1</td>\n",
       "      <td>0</td>\n",
       "      <td>1</td>\n",
       "      <td>0</td>\n",
       "      <td>0</td>\n",
       "      <td>1</td>\n",
       "    </tr>\n",
       "    <tr>\n",
       "      <th>1</th>\n",
       "      <td>3</td>\n",
       "      <td>2.25</td>\n",
       "      <td>2570</td>\n",
       "      <td>7242</td>\n",
       "      <td>2.0</td>\n",
       "      <td>0</td>\n",
       "      <td>3</td>\n",
       "      <td>7</td>\n",
       "      <td>2170</td>\n",
       "      <td>400</td>\n",
       "      <td>1951</td>\n",
       "      <td>1991</td>\n",
       "      <td>98125</td>\n",
       "      <td>47.7210</td>\n",
       "      <td>-122.319</td>\n",
       "      <td>1690</td>\n",
       "      <td>7639</td>\n",
       "      <td>538000</td>\n",
       "      <td>9</td>\n",
       "      <td>12</td>\n",
       "      <td>40</td>\n",
       "      <td>63</td>\n",
       "      <td>4672</td>\n",
       "      <td>5949</td>\n",
       "      <td>7.851661</td>\n",
       "      <td>7.682482</td>\n",
       "      <td>7.432484</td>\n",
       "      <td>1</td>\n",
       "      <td>0</td>\n",
       "      <td>1</td>\n",
       "      <td>0</td>\n",
       "      <td>0</td>\n",
       "      <td>1</td>\n",
       "      <td>0</td>\n",
       "      <td>1</td>\n",
       "      <td>0</td>\n",
       "      <td>1</td>\n",
       "    </tr>\n",
       "    <tr>\n",
       "      <th>2</th>\n",
       "      <td>2</td>\n",
       "      <td>1.00</td>\n",
       "      <td>770</td>\n",
       "      <td>10000</td>\n",
       "      <td>1.0</td>\n",
       "      <td>0</td>\n",
       "      <td>3</td>\n",
       "      <td>6</td>\n",
       "      <td>770</td>\n",
       "      <td>0</td>\n",
       "      <td>1933</td>\n",
       "      <td>0</td>\n",
       "      <td>98028</td>\n",
       "      <td>47.7379</td>\n",
       "      <td>-122.233</td>\n",
       "      <td>2720</td>\n",
       "      <td>8062</td>\n",
       "      <td>180000</td>\n",
       "      <td>25</td>\n",
       "      <td>2</td>\n",
       "      <td>0</td>\n",
       "      <td>82</td>\n",
       "      <td>9230</td>\n",
       "      <td>5342</td>\n",
       "      <td>6.646391</td>\n",
       "      <td>6.646391</td>\n",
       "      <td>7.908387</td>\n",
       "      <td>1</td>\n",
       "      <td>0</td>\n",
       "      <td>0</td>\n",
       "      <td>1</td>\n",
       "      <td>1</td>\n",
       "      <td>0</td>\n",
       "      <td>1</td>\n",
       "      <td>0</td>\n",
       "      <td>1</td>\n",
       "      <td>0</td>\n",
       "    </tr>\n",
       "    <tr>\n",
       "      <th>3</th>\n",
       "      <td>4</td>\n",
       "      <td>3.00</td>\n",
       "      <td>1960</td>\n",
       "      <td>5000</td>\n",
       "      <td>1.0</td>\n",
       "      <td>0</td>\n",
       "      <td>5</td>\n",
       "      <td>7</td>\n",
       "      <td>1050</td>\n",
       "      <td>910</td>\n",
       "      <td>1965</td>\n",
       "      <td>0</td>\n",
       "      <td>98136</td>\n",
       "      <td>47.5208</td>\n",
       "      <td>-122.393</td>\n",
       "      <td>1360</td>\n",
       "      <td>5000</td>\n",
       "      <td>604000</td>\n",
       "      <td>9</td>\n",
       "      <td>12</td>\n",
       "      <td>0</td>\n",
       "      <td>49</td>\n",
       "      <td>3040</td>\n",
       "      <td>3640</td>\n",
       "      <td>7.580700</td>\n",
       "      <td>6.956545</td>\n",
       "      <td>7.215240</td>\n",
       "      <td>1</td>\n",
       "      <td>0</td>\n",
       "      <td>1</td>\n",
       "      <td>0</td>\n",
       "      <td>1</td>\n",
       "      <td>0</td>\n",
       "      <td>0</td>\n",
       "      <td>1</td>\n",
       "      <td>0</td>\n",
       "      <td>1</td>\n",
       "    </tr>\n",
       "    <tr>\n",
       "      <th>4</th>\n",
       "      <td>3</td>\n",
       "      <td>2.00</td>\n",
       "      <td>1680</td>\n",
       "      <td>8080</td>\n",
       "      <td>1.0</td>\n",
       "      <td>0</td>\n",
       "      <td>3</td>\n",
       "      <td>8</td>\n",
       "      <td>1680</td>\n",
       "      <td>0</td>\n",
       "      <td>1987</td>\n",
       "      <td>0</td>\n",
       "      <td>98074</td>\n",
       "      <td>47.6168</td>\n",
       "      <td>-122.045</td>\n",
       "      <td>1800</td>\n",
       "      <td>7503</td>\n",
       "      <td>510000</td>\n",
       "      <td>18</td>\n",
       "      <td>2</td>\n",
       "      <td>0</td>\n",
       "      <td>28</td>\n",
       "      <td>6400</td>\n",
       "      <td>5703</td>\n",
       "      <td>7.426549</td>\n",
       "      <td>7.426549</td>\n",
       "      <td>7.495542</td>\n",
       "      <td>1</td>\n",
       "      <td>0</td>\n",
       "      <td>0</td>\n",
       "      <td>1</td>\n",
       "      <td>1</td>\n",
       "      <td>0</td>\n",
       "      <td>1</td>\n",
       "      <td>0</td>\n",
       "      <td>1</td>\n",
       "      <td>0</td>\n",
       "    </tr>\n",
       "  </tbody>\n",
       "</table>\n",
       "</div>"
      ],
      "text/plain": [
       "   bedrooms  bathrooms  sqft_living  sqft_lot  floors  view  condition  grade  \\\n",
       "0         3       1.00         1180      5650     1.0     0          3      7   \n",
       "1         3       2.25         2570      7242     2.0     0          3      7   \n",
       "2         2       1.00          770     10000     1.0     0          3      6   \n",
       "3         4       3.00         1960      5000     1.0     0          5      7   \n",
       "4         3       2.00         1680      8080     1.0     0          3      8   \n",
       "\n",
       "   sqft_above  sqft_basement  yr_built  yr_renovated  zipcode      lat  \\\n",
       "0        1180              0      1955             0    98178  47.5112   \n",
       "1        2170            400      1951          1991    98125  47.7210   \n",
       "2         770              0      1933             0    98028  47.7379   \n",
       "3        1050            910      1965             0    98136  47.5208   \n",
       "4        1680              0      1987             0    98074  47.6168   \n",
       "\n",
       "      long  sqft_living15  sqft_lot15   price  day_bought  month_bought  \\\n",
       "0 -122.257           1340        5650  221900          13            10   \n",
       "1 -122.319           1690        7639  538000           9            12   \n",
       "2 -122.233           2720        8062  180000          25             2   \n",
       "3 -122.393           1360        5000  604000           9            12   \n",
       "4 -122.045           1800        7503  510000          18             2   \n",
       "\n",
       "   yr_diff_renovated  yr_diff_bought  sqrt_diff  sqrt_diff_15  \\\n",
       "0                  0              59       4470          4310   \n",
       "1                 40              63       4672          5949   \n",
       "2                  0              82       9230          5342   \n",
       "3                  0              49       3040          3640   \n",
       "4                  0              28       6400          5703   \n",
       "\n",
       "   sqft_living_log  sqft_above_log  sqft_living15_log  0  1  2014  2015  0.1  \\\n",
       "0         7.073270        7.073270           7.200425  1  0     1     0    1   \n",
       "1         7.851661        7.682482           7.432484  1  0     1     0    0   \n",
       "2         6.646391        6.646391           7.908387  1  0     0     1    1   \n",
       "3         7.580700        6.956545           7.215240  1  0     1     0    1   \n",
       "4         7.426549        7.426549           7.495542  1  0     0     1    1   \n",
       "\n",
       "   1.1  0.2  1.2  0.3  1.3  \n",
       "0    0    1    0    0    1  \n",
       "1    1    0    1    0    1  \n",
       "2    0    1    0    1    0  \n",
       "3    0    0    1    0    1  \n",
       "4    0    1    0    1    0  "
      ]
     },
     "execution_count": 8,
     "metadata": {},
     "output_type": "execute_result"
    }
   ],
   "source": [
    "# opening the dataset we used in Vol II with the best results for the model. \n",
    "df = pd.read_csv('df2_fea_eng_log_enc.csv')\n",
    "df.head()"
   ]
  },
  {
   "cell_type": "code",
   "execution_count": 9,
   "id": "216fea44",
   "metadata": {},
   "outputs": [
    {
     "data": {
      "text/plain": [
       "(18623, 36)"
      ]
     },
     "execution_count": 9,
     "metadata": {},
     "output_type": "execute_result"
    }
   ],
   "source": [
    "X_num = df.drop( columns = [\"price\"], axis = 1)\n",
    "transformer = MinMaxScaler().fit(X_num)\n",
    "X_num_minmax = transformer.transform(X_num)\n",
    "X_num_norm = pd.DataFrame(X_num_minmax,columns=X_num.columns)\n",
    "X_num_normalized = X_num_norm.copy()\n",
    "X_num_normalized.shape"
   ]
  },
  {
   "cell_type": "code",
   "execution_count": 10,
   "id": "f7cb666b",
   "metadata": {},
   "outputs": [
    {
     "data": {
      "text/plain": [
       "LinearRegression()"
      ]
     },
     "execution_count": 10,
     "metadata": {},
     "output_type": "execute_result"
    }
   ],
   "source": [
    "X = X_num_normalized.copy()\n",
    "Y = df[\"price\"]\n",
    "#Separation between train and test\n",
    "X_train, X_test, y_train, y_test = train_test_split(X, Y, test_size=0.25, random_state=42) \n",
    "#Train model\n",
    "model = LinearRegression()\n",
    "model.fit(X_train,y_train)"
   ]
  },
  {
   "cell_type": "code",
   "execution_count": 11,
   "id": "cdcc822e",
   "metadata": {},
   "outputs": [
    {
     "name": "stdout",
     "output_type": "stream",
     "text": [
      "LinearRegression() metrics are: \n",
      "R2 = 0.7352034238037304\n",
      "R2 adjusted = 0.7374580725777847\n",
      "RMSE = 152340.0\n",
      "MSE = 23207474289.75\n",
      "MAE = 103113.21\n",
      "KNeighborsRegressor(n_neighbors=9) metrics are: \n",
      "R2 = 0.7401444972439519\n",
      "R2 adjusted = 0.7718073735003297\n",
      "RMSE = 150911.98\n",
      "MSE = 22774425507.65\n",
      "MAE = 89975.35\n",
      "DecisionTreeRegressor(max_depth=10) metrics are: \n",
      "R2 = 0.8052608621158373\n",
      "R2 adjusted = 0.8913280437049484\n",
      "RMSE = 130642.47\n",
      "MSE = 17067454574.28\n",
      "MAE = 77516.84\n",
      "RandomForestRegressor(max_depth=10) metrics are: \n",
      "R2 = 0.8729578545401561\n",
      "R2 adjusted = 0.9178841206550782\n",
      "RMSE = 105519.24\n",
      "MSE = 11134310597.31\n",
      "MAE = 64750.39\n"
     ]
    }
   ],
   "source": [
    "predictions, y_test, r2 = modeling(Y, X, models=[LinearRegression(), KNeighborsRegressor(n_neighbors=9), DecisionTreeRegressor(max_depth=10),RandomForestRegressor(n_estimators=100, max_depth=10)], test_size=0.24)"
   ]
  },
  {
   "cell_type": "markdown",
   "id": "4d438ea5",
   "metadata": {},
   "source": [
    "# Looking at coefficient values and feature importance \n"
   ]
  },
  {
   "cell_type": "code",
   "execution_count": 12,
   "id": "84d64500",
   "metadata": {
    "scrolled": true
   },
   "outputs": [
    {
     "name": "stdout",
     "output_type": "stream",
     "text": [
      "bedrooms: -346712.91\n",
      "bathrooms: 269276.99\n",
      "sqft_living: 9273051211467134.00\n",
      "sqft_lot: 7653669994066192.00\n",
      "floors: -3372.54\n",
      "view: 166158.30\n",
      "condition: 148419.17\n",
      "grade: 1017437.82\n",
      "sqft_above: -8101164635282898.00\n",
      "sqft_basement: -6802720129114478.00\n",
      "yr_built: 1631028301086405888.00\n",
      "yr_renovated: 9297536.42\n",
      "zipcode: -245375.82\n",
      "lat: 329227.08\n",
      "long: 33480.51\n",
      "sqft_living15: -1982975443011711.75\n",
      "sqft_lot15: 5598357749823496.00\n",
      "price: -7846.57\n",
      "day_bought: 3106.23\n",
      "month_bought: -141752.75\n",
      "yr_diff_renovated: 1645211155878705408.00\n",
      "yr_diff_bought: -8009616410217674.00\n",
      "sqrt_diff: -5961967173475863.00\n",
      "sqrt_diff_15: -1991021.25\n",
      "sqft_living_log: 593804.23\n",
      "sqft_above_log: 136172.18\n",
      "sqft_living15_log: -3502099702478090.50\n",
      "0: -3502099701905529.50\n",
      "1: 7091427396012665.00\n",
      "2014: -7091427396012665.00\n",
      "2015: 167513690321293.66\n",
      "0.1: 167513681228607.19\n",
      "1.1: 4777275583938763.00\n",
      "0.2: 4777275583999388.00\n",
      "1.2: 2086535770089702.50\n",
      "0.3: 2086535770225827.50\n"
     ]
    }
   ],
   "source": [
    "# Coefficient values\n",
    "\n",
    "reg = LinearRegression()\n",
    "reg.fit(X_train, y_train)\n",
    "\n",
    "# Get the coefficients and feature names\n",
    "coef = reg.coef_\n",
    "feature_names = df.columns\n",
    "\n",
    "# Print the coefficients and feature names\n",
    "for feature, coef in zip(feature_names, coef):\n",
    "    print(f\"{feature}: {coef:.2f}\")\n",
    "    \n",
    "# high negative of positive coef: bedrooms,sqft_living, sqft_lot, floors, waterfront, view, grade, sqft_above, yr_built, yr_renovated, zipcode, lat, sqft_lot15, day_bought, year_bought, yr_diff_renovated, yr_diff_bought, sqrt_diff, sqrt_diff_15, yr_renovated_binary     "
   ]
  },
  {
   "cell_type": "markdown",
   "id": "ede54d11",
   "metadata": {},
   "source": [
    "### <span style=\"color:rgb(255, 0, 255)\"> Feature importance\n"
   ]
  },
  {
   "cell_type": "code",
   "execution_count": 13,
   "id": "05b52e35",
   "metadata": {
    "collapsed": true
   },
   "outputs": [
    {
     "name": "stdout",
     "output_type": "stream",
     "text": [
      "R^2 score: 0.74\n",
      "bedrooms: 346712.91\n",
      "bathrooms: 269276.99\n",
      "sqft_living: 9273051211467134.00\n",
      "sqft_lot: 7653669994066192.00\n",
      "floors: 3372.54\n",
      "view: 166158.30\n",
      "condition: 148419.17\n",
      "grade: 1017437.82\n",
      "sqft_above: 8101164635282898.00\n",
      "sqft_basement: 6802720129114478.00\n",
      "yr_built: 1631028301086405888.00\n",
      "yr_renovated: 9297536.42\n",
      "zipcode: 245375.82\n",
      "lat: 329227.08\n",
      "long: 33480.51\n",
      "sqft_living15: 1982975443011711.75\n",
      "sqft_lot15: 5598357749823496.00\n",
      "price: 7846.57\n",
      "day_bought: 3106.23\n",
      "month_bought: 141752.75\n",
      "yr_diff_renovated: 1645211155878705408.00\n",
      "yr_diff_bought: 8009616410217674.00\n",
      "sqrt_diff: 5961967173475863.00\n",
      "sqrt_diff_15: 1991021.25\n",
      "sqft_living_log: 593804.23\n",
      "sqft_above_log: 136172.18\n",
      "sqft_living15_log: 3502099702478090.50\n",
      "0: 3502099701905529.50\n",
      "1: 7091427396012665.00\n",
      "2014: 7091427396012665.00\n",
      "2015: 167513690321293.66\n",
      "0.1: 167513681228607.19\n",
      "1.1: 4777275583938763.00\n",
      "0.2: 4777275583999388.00\n",
      "1.2: 2086535770089702.50\n",
      "0.3: 2086535770225827.50\n"
     ]
    }
   ],
   "source": [
    "from sklearn.linear_model import LinearRegression\n",
    "\n",
    "# Fit a linear regression model\n",
    "lr = LinearRegression()\n",
    "lr.fit(X_train, y_train)\n",
    "\n",
    "# Get the coefficient of determination (R^2)\n",
    "r_squared = lr.score(X_train, y_train)\n",
    "print(f\"R^2 score: {r_squared:.2f}\")\n",
    "\n",
    "# Get the feature importance scores\n",
    "importances = abs(lr.coef_)\n",
    "\n",
    "# Print the feature importance scores\n",
    "for feature, importance in zip(df.columns, importances):\n",
    "    print(f\"{feature}: {importance:.2f}\")\n",
    "\n",
    "    "
   ]
  },
  {
   "cell_type": "code",
   "execution_count": 15,
   "id": "90fb688c",
   "metadata": {},
   "outputs": [
    {
     "name": "stdout",
     "output_type": "stream",
     "text": [
      "              feature   coefficient\n",
      "20     yr_diff_bought  1.882595e+18\n",
      "10           yr_built  1.866366e+18\n",
      "33                1.2  2.264575e+16\n",
      "32                0.2  2.264575e+16\n",
      "16         sqft_lot15  1.613061e+16\n",
      "3            sqft_lot  1.578883e+16\n",
      "2         sqft_living  5.471140e+15\n",
      "28               2014  3.634332e+15\n",
      "30                0.1  3.293716e+14\n",
      "31                1.1  3.293715e+14\n",
      "11       yr_renovated  8.632568e+06\n",
      "7               grade  1.024342e+06\n",
      "24     sqft_above_log  5.595535e+05\n",
      "13                lat  3.285020e+05\n",
      "1           bathrooms  2.239997e+05\n",
      "5                view  1.767529e+05\n",
      "6           condition  1.589769e+05\n",
      "25  sqft_living15_log  1.427734e+05\n",
      "14               long  2.050574e+04\n",
      "18       month_bought  5.345845e+03\n",
      "4              floors  3.568151e+03\n",
      "17         day_bought -7.184408e+03\n",
      "19  yr_diff_renovated -1.664068e+05\n",
      "12            zipcode -2.411595e+05\n",
      "0            bedrooms -3.722816e+05\n",
      "23    sqft_living_log -1.848346e+06\n",
      "27                  1 -7.852869e+14\n",
      "26                  0 -7.852869e+14\n",
      "15      sqft_living15 -5.713567e+15\n",
      "9       sqft_basement -6.931657e+15\n",
      "8          sqft_above -8.254712e+15\n",
      "35                1.3 -1.121156e+16\n",
      "34                0.3 -1.121156e+16\n",
      "29               2015 -1.259494e+16\n",
      "21          sqrt_diff -1.652312e+16\n",
      "22       sqrt_diff_15 -1.717828e+16\n"
     ]
    }
   ],
   "source": [
    "# let's dive in feature importance of linnear regression model\n",
    "\n",
    "\n",
    "X_feature = X\n",
    "y_feature = Y\n",
    "\n",
    "# create a linear regression object\n",
    "reg = LinearRegression()\n",
    "\n",
    "# fit the linear regression model on the data\n",
    "reg.fit(X_feature, y_feature)\n",
    "\n",
    "# print the coefficients and their corresponding feature names\n",
    "coefficients = pd.DataFrame({'feature': X_feature.columns, 'coefficient': reg.coef_})\n",
    "coefficients = coefficients.sort_values('coefficient', ascending=False)\n",
    "print(coefficients)\n"
   ]
  },
  {
   "cell_type": "markdown",
   "id": "261d53ba",
   "metadata": {},
   "source": [
    "### we ran the model several times without single feautures to see how this impacted the model"
   ]
  },
  {
   "cell_type": "code",
   "execution_count": 24,
   "id": "bc85f353",
   "metadata": {},
   "outputs": [],
   "source": [
    "X_num1 = df.drop(columns = [\"price\",\"yr_diff_bought\"], axis = 1) # BAD FOR THE MODEL TO DO THIS"
   ]
  },
  {
   "cell_type": "code",
   "execution_count": 31,
   "id": "8b209c07",
   "metadata": {},
   "outputs": [],
   "source": [
    "X_num2 = df.drop(columns = [\"price\",\"yr_built\"], axis = 1) # BAD FOR THE MODEL TO DO THIS"
   ]
  },
  {
   "cell_type": "code",
   "execution_count": 37,
   "id": "5c96e31b",
   "metadata": {},
   "outputs": [],
   "source": [
    "X_num3 = df.drop(columns = [\"price\",\"sqft_lot15\"], axis = 1) # BAD FOR THE MODEL TO DO THIS"
   ]
  },
  {
   "cell_type": "code",
   "execution_count": 43,
   "id": "eb10f5d4",
   "metadata": {},
   "outputs": [],
   "source": [
    "X_num4 = df.drop(columns = [\"price\",\"sqft_lot\"], axis = 1) # BAD FOR THE MODEL TO DO THIS"
   ]
  },
  {
   "cell_type": "code",
   "execution_count": 52,
   "id": "6119fb76",
   "metadata": {},
   "outputs": [],
   "source": [
    "X_num5 = df.drop(columns = [\"price\",\"grade\"], axis = 1) # BAD FOR THE MODEL TO DO THIS"
   ]
  },
  {
   "cell_type": "code",
   "execution_count": 57,
   "id": "559e529f",
   "metadata": {},
   "outputs": [],
   "source": [
    "X_num6 = df.drop(columns = [\"price\", \"sqft_above\"], axis = 1) # BAD FOR THE MODEL TO DO THIS"
   ]
  },
  {
   "cell_type": "code",
   "execution_count": 64,
   "id": "8b3a2b4a",
   "metadata": {},
   "outputs": [],
   "source": [
    "X_num7 = df.drop(columns = [\"price\", \"view\"], axis = 1) # BAD FOR THE MODEL TO DO THIS"
   ]
  },
  {
   "cell_type": "code",
   "execution_count": 69,
   "id": "2170f861",
   "metadata": {},
   "outputs": [],
   "source": [
    "X_num8 = df.drop(columns = [\"price\", \"condition\"], axis = 1) # BAD FOR THE MODEL TO DO THIS"
   ]
  },
  {
   "cell_type": "code",
   "execution_count": 75,
   "id": "31c5a05d",
   "metadata": {},
   "outputs": [],
   "source": [
    "X_num9 = df.drop(columns = [\"price\", \"sqft_living_log\"], axis = 1) # BAD FOR THE MODEL TO DO THIS"
   ]
  },
  {
   "cell_type": "code",
   "execution_count": 80,
   "id": "7185766e",
   "metadata": {},
   "outputs": [],
   "source": [
    "X_num10 = df.drop(columns = [\"price\", \"sqft_living15_log\"], axis = 1) # BAD FOR THE MODEL TO DO THIS"
   ]
  },
  {
   "cell_type": "code",
   "execution_count": 90,
   "id": "5174de33",
   "metadata": {},
   "outputs": [],
   "source": [
    "X_num11 = df.drop(columns = [\"price\", \"1.2\", \"0.2\"], axis = 1) # BAD FOR THE MODEL TO DO THIS"
   ]
  },
  {
   "cell_type": "code",
   "execution_count": 95,
   "id": "dfb964fd",
   "metadata": {},
   "outputs": [],
   "source": [
    "X_num12 = df.drop(columns = [\"price\", \"sqft_living\"], axis = 1) # BAD FOR THE MODEL TO DO THIS"
   ]
  },
  {
   "cell_type": "code",
   "execution_count": 100,
   "id": "84fc39d6",
   "metadata": {},
   "outputs": [],
   "source": [
    "X_num13 = df.drop(columns = [\"price\", \"day_bought\"], axis = 1) # good FOR THE MODEL TO DO THIS"
   ]
  },
  {
   "cell_type": "code",
   "execution_count": 106,
   "id": "7c76ad72",
   "metadata": {},
   "outputs": [],
   "source": [
    "X_num14 = df.drop(columns = [\"price\", \"1\"], axis = 1) # BAD FOR THE MODEL TO DO THIS"
   ]
  },
  {
   "cell_type": "code",
   "execution_count": 111,
   "id": "c6788883",
   "metadata": {},
   "outputs": [],
   "source": [
    "X_num15 = df.drop(columns = [\"price\", \"0\"], axis = 1) # BAD FOR THE MODEL TO DO THIS"
   ]
  },
  {
   "cell_type": "code",
   "execution_count": 116,
   "id": "8ca6c7c7",
   "metadata": {},
   "outputs": [],
   "source": [
    "X_num16 = df.drop(columns = [\"price\", \"sqft_living15\"], axis = 1) # BAD FOR THE MODEL TO DO THIS"
   ]
  },
  {
   "cell_type": "code",
   "execution_count": 121,
   "id": "a707712c",
   "metadata": {},
   "outputs": [],
   "source": [
    "X_num17 = df.drop(columns = [\"price\", \"sqft_basement\"], axis = 1) # BAD FOR THE MODEL TO DO THIS"
   ]
  },
  {
   "cell_type": "code",
   "execution_count": 126,
   "id": "5770a0c4",
   "metadata": {},
   "outputs": [],
   "source": [
    "X_num18 = df.drop(columns = [\"price\", \"2014\"], axis = 1) # BAD FOR THE MODEL TO DO THIS"
   ]
  },
  {
   "cell_type": "code",
   "execution_count": 136,
   "id": "532d07d6",
   "metadata": {},
   "outputs": [],
   "source": [
    "X_num19 = df.drop(columns = [\"price\", \"0.2\"], axis = 1) # good FOR THE MODEL TO DO THIS"
   ]
  },
  {
   "cell_type": "code",
   "execution_count": 141,
   "id": "8f1ea07f",
   "metadata": {},
   "outputs": [],
   "source": [
    "X_num20 = df.drop(columns = [\"price\", \"0.1\"], axis = 1) # BAD FOR THE MODEL TO DO THIS"
   ]
  },
  {
   "cell_type": "code",
   "execution_count": 146,
   "id": "09a2d871",
   "metadata": {},
   "outputs": [],
   "source": [
    "X_num21 = df.drop(columns = [\"price\", \"1.1\"], axis = 1) # good FOR THE MODEL TO DO THIS"
   ]
  },
  {
   "cell_type": "code",
   "execution_count": 151,
   "id": "c298acb8",
   "metadata": {},
   "outputs": [],
   "source": [
    "X_num22 = df.drop(columns = [\"price\", \"yr_renovated\"], axis = 1) # BAD FOR THE MODEL TO DO THIS"
   ]
  },
  {
   "cell_type": "code",
   "execution_count": 160,
   "id": "1751d0f9",
   "metadata": {},
   "outputs": [],
   "source": [
    "X_num23 = df.drop(columns = [\"price\", \"sqft_above_log\"], axis = 1) # BAD FOR THE MODEL TO DO THIS"
   ]
  },
  {
   "cell_type": "code",
   "execution_count": 165,
   "id": "bf22c441",
   "metadata": {},
   "outputs": [],
   "source": [
    "X_num24 = df.drop(columns = [\"price\", \"lat\"], axis = 1) # BAD FOR THE MODEL TO DO THIS"
   ]
  },
  {
   "cell_type": "code",
   "execution_count": 171,
   "id": "7a646fee",
   "metadata": {},
   "outputs": [],
   "source": [
    "X_num25 = df.drop(columns = [\"price\", \"bathrooms\"], axis = 1) # BAD FOR THE MODEL TO DO THIS"
   ]
  },
  {
   "cell_type": "code",
   "execution_count": 177,
   "id": "f61994a8",
   "metadata": {},
   "outputs": [],
   "source": [
    "X_num26 = df.drop(columns = [\"price\", \"long\"], axis = 1) # good FOR THE MODEL TO DO THIS"
   ]
  },
  {
   "cell_type": "code",
   "execution_count": 182,
   "id": "4a85b6ec",
   "metadata": {},
   "outputs": [],
   "source": [
    "X_num27 = df.drop(columns = [\"price\", \"month_bought\"], axis = 1) # BAD FOR THE MODEL TO DO THIS"
   ]
  },
  {
   "cell_type": "code",
   "execution_count": 187,
   "id": "8164719f",
   "metadata": {},
   "outputs": [],
   "source": [
    "X_num28 = df.drop(columns = [\"price\", \"floors\"], axis = 1) # good FOR THE MODEL TO DO THIS"
   ]
  },
  {
   "cell_type": "code",
   "execution_count": 192,
   "id": "44c797b4",
   "metadata": {},
   "outputs": [],
   "source": [
    "X_num29 = df.drop(columns = [\"price\", \"yr_diff_renovated\"], axis = 1) # BAD FOR THE MODEL TO DO THIS"
   ]
  },
  {
   "cell_type": "code",
   "execution_count": 197,
   "id": "24174494",
   "metadata": {},
   "outputs": [],
   "source": [
    "X_num30 = df.drop(columns = [\"price\", \"zipcode\"], axis = 1) # good FOR THE MODEL TO DO THIS"
   ]
  },
  {
   "cell_type": "code",
   "execution_count": 202,
   "id": "69b37ea6",
   "metadata": {},
   "outputs": [],
   "source": [
    "X_num31 = df.drop(columns = [\"price\", \"bedrooms\"], axis = 1) # good FOR THE MODEL TO DO THIS"
   ]
  },
  {
   "cell_type": "code",
   "execution_count": 207,
   "id": "4f77bf7a",
   "metadata": {},
   "outputs": [],
   "source": [
    "X_num32 = df.drop(columns = [\"price\", \"1.3\"], axis = 1) # good FOR THE MODEL TO DO THIS"
   ]
  },
  {
   "cell_type": "code",
   "execution_count": 212,
   "id": "1eedcdf5",
   "metadata": {},
   "outputs": [],
   "source": [
    "X_num33 = df.drop(columns = [\"price\", \"0.3\"], axis = 1) # good FOR THE MODEL TO DO THIS"
   ]
  },
  {
   "cell_type": "code",
   "execution_count": 217,
   "id": "c8ff7980",
   "metadata": {},
   "outputs": [],
   "source": [
    "X_num34 = df.drop(columns = [\"price\", \"2015\"], axis = 1) # good FOR THE MODEL TO DO THIS"
   ]
  },
  {
   "cell_type": "code",
   "execution_count": 222,
   "id": "0d1d15a9",
   "metadata": {},
   "outputs": [],
   "source": [
    "X_num35 = df.drop(columns = [\"price\", \"sqrt_diff\"], axis = 1) # good FOR THE MODEL TO DO THIS"
   ]
  },
  {
   "cell_type": "code",
   "execution_count": 227,
   "id": "d232a87f",
   "metadata": {},
   "outputs": [],
   "source": [
    "X_num35 = df.drop(columns = [\"price\", \"sqrt_diff_15\"], axis = 1) # good FOR THE MODEL TO DO THIS"
   ]
  },
  {
   "cell_type": "code",
   "execution_count": 228,
   "id": "19d1d9bf",
   "metadata": {},
   "outputs": [
    {
     "data": {
      "text/plain": [
       "(18623, 35)"
      ]
     },
     "execution_count": 228,
     "metadata": {},
     "output_type": "execute_result"
    }
   ],
   "source": [
    "transformer = MinMaxScaler().fit(X_num35)\n",
    "X_num_minmax = transformer.transform(X_num35)\n",
    "X_num_norm = pd.DataFrame(X_num_minmax,columns=X_num35.columns)\n",
    "X_num_normalized = X_num_norm.copy()\n",
    "X_num_normalized.shape"
   ]
  },
  {
   "cell_type": "code",
   "execution_count": 229,
   "id": "d0ba1b0f",
   "metadata": {
    "scrolled": true
   },
   "outputs": [
    {
     "data": {
      "text/plain": [
       "LinearRegression()"
      ]
     },
     "execution_count": 229,
     "metadata": {},
     "output_type": "execute_result"
    }
   ],
   "source": [
    "X = X_num_normalized.copy()\n",
    "Y = df[\"price\"]\n",
    "#Separation between train and test\n",
    "X_train, X_test, y_train, y_test = train_test_split(X, Y, test_size=0.25, random_state=42) \n",
    "#Train model\n",
    "model = LinearRegression()\n",
    "model.fit(X_train,y_train)"
   ]
  },
  {
   "cell_type": "code",
   "execution_count": 230,
   "id": "71c00814",
   "metadata": {},
   "outputs": [
    {
     "data": {
      "text/plain": [
       "(4656,)"
      ]
     },
     "execution_count": 230,
     "metadata": {},
     "output_type": "execute_result"
    }
   ],
   "source": [
    "#Test model\n",
    "predictions = model.predict(X_test)\n",
    "predictions.shape"
   ]
  },
  {
   "cell_type": "code",
   "execution_count": 231,
   "id": "c70868bb",
   "metadata": {
    "scrolled": true
   },
   "outputs": [
    {
     "name": "stdout",
     "output_type": "stream",
     "text": [
      "LinearRegression() metrics are: \n",
      "R2 = 0.7349353222440091\n",
      "R2 adjusted = 0.737436161095298\n",
      "RMSE = 152417.1\n",
      "MSE = 23230971421.56\n",
      "MAE = 103266.31\n",
      "KNeighborsRegressor(n_neighbors=9) metrics are: \n",
      "R2 = 0.7403220094104754\n",
      "R2 adjusted = 0.771843498286468\n",
      "RMSE = 150860.43\n",
      "MSE = 22758867870.54\n",
      "MAE = 89693.03\n",
      "DecisionTreeRegressor(max_depth=10) metrics are: \n",
      "R2 = 0.8123385827359519\n",
      "R2 adjusted = 0.892887456488817\n",
      "RMSE = 128246.42\n",
      "MSE = 16447144366.04\n",
      "MAE = 77009.67\n",
      "RandomForestRegressor(max_depth=10) metrics are: \n",
      "R2 = 0.8723542421335018\n",
      "R2 adjusted = 0.918108291512692\n",
      "RMSE = 105769.62\n",
      "MSE = 11187212789.67\n",
      "MAE = 64905.27\n"
     ]
    }
   ],
   "source": [
    "predictions, y_test, r2 = modeling(Y, X, models=[LinearRegression(), KNeighborsRegressor(n_neighbors=9), DecisionTreeRegressor(max_depth=10),RandomForestRegressor(n_estimators=100, max_depth=10)], test_size=0.24)"
   ]
  },
  {
   "cell_type": "markdown",
   "id": "9468d0a3",
   "metadata": {},
   "source": [
    "#### The times that the model was affected negatively were when we removed grade, lat, yr renovated, sqft_lot15 and sqft_living_log\n",
    "\n",
    "#### The times that the model was affected positively were when we removed: 1.2, 0.2, 1.1, long, floors, day_bought, zipcode, 0.3."
   ]
  },
  {
   "cell_type": "markdown",
   "id": "12e4fa64",
   "metadata": {},
   "source": [
    "#### let's try now combination of this features to see how the combinations impact the model"
   ]
  },
  {
   "cell_type": "code",
   "execution_count": 234,
   "id": "d88e8e9e",
   "metadata": {},
   "outputs": [],
   "source": [
    "X_num36 = df.drop(columns = [\"price\", \"long\", \"zipcode\"], axis = 1) # good FOR THE MODEL TO DO THIS"
   ]
  },
  {
   "cell_type": "code",
   "execution_count": 236,
   "id": "dff6b7f9",
   "metadata": {},
   "outputs": [
    {
     "data": {
      "text/plain": [
       "(18623, 34)"
      ]
     },
     "execution_count": 236,
     "metadata": {},
     "output_type": "execute_result"
    }
   ],
   "source": [
    "transformer = MinMaxScaler().fit(X_num36)\n",
    "X_num_minmax = transformer.transform(X_num36)\n",
    "X_num_norm = pd.DataFrame(X_num_minmax,columns=X_num36.columns)\n",
    "X_num_normalized = X_num_norm.copy()\n",
    "X_num_normalized.shape"
   ]
  },
  {
   "cell_type": "code",
   "execution_count": 237,
   "id": "7bfae197",
   "metadata": {
    "scrolled": true
   },
   "outputs": [
    {
     "data": {
      "text/plain": [
       "LinearRegression()"
      ]
     },
     "execution_count": 237,
     "metadata": {},
     "output_type": "execute_result"
    }
   ],
   "source": [
    "X = X_num_normalized.copy()\n",
    "Y = df[\"price\"]\n",
    "#Separation between train and test\n",
    "X_train, X_test, y_train, y_test = train_test_split(X, Y, test_size=0.25, random_state=42) \n",
    "#Train model\n",
    "model = LinearRegression()\n",
    "model.fit(X_train,y_train)"
   ]
  },
  {
   "cell_type": "code",
   "execution_count": 238,
   "id": "8ffa84d6",
   "metadata": {},
   "outputs": [
    {
     "data": {
      "text/plain": [
       "(4656,)"
      ]
     },
     "execution_count": 238,
     "metadata": {},
     "output_type": "execute_result"
    }
   ],
   "source": [
    "#Test model\n",
    "predictions = model.predict(X_test)\n",
    "predictions.shape"
   ]
  },
  {
   "cell_type": "code",
   "execution_count": 239,
   "id": "2e95bf3e",
   "metadata": {},
   "outputs": [
    {
     "name": "stdout",
     "output_type": "stream",
     "text": [
      "LinearRegression() metrics are: \n",
      "R2 = 0.7257096715744052\n",
      "R2 adjusted = 0.7283813545014244\n",
      "RMSE = 155046.87\n",
      "MSE = 24039531916.56\n",
      "MAE = 104631.29\n",
      "KNeighborsRegressor(n_neighbors=9) metrics are: \n",
      "R2 = 0.7289490853805931\n",
      "R2 adjusted = 0.7633783965474891\n",
      "RMSE = 154128.59\n",
      "MSE = 23755621098.29\n",
      "MAE = 92512.52\n",
      "DecisionTreeRegressor(max_depth=10) metrics are: \n",
      "R2 = 0.7501538630729417\n",
      "R2 adjusted = 0.863625189836814\n",
      "RMSE = 147976.95\n",
      "MSE = 21897178137.34\n",
      "MAE = 84765.17\n",
      "RandomForestRegressor(max_depth=10) metrics are: \n",
      "R2 = 0.8414507279971577\n",
      "R2 adjusted = 0.900252728790504\n",
      "RMSE = 117879.93\n",
      "MSE = 13895678737.7\n",
      "MAE = 71788.96\n"
     ]
    }
   ],
   "source": [
    "predictions, y_test, r2 = modeling(Y, X, models=[LinearRegression(), KNeighborsRegressor(n_neighbors=9), DecisionTreeRegressor(max_depth=10),RandomForestRegressor(n_estimators=100, max_depth=10)], test_size=0.24)"
   ]
  },
  {
   "cell_type": "markdown",
   "id": "acac6eb9",
   "metadata": {},
   "source": [
    "#### this combination affected positively the R2 of the model, in LR it is R2: 0.725"
   ]
  },
  {
   "cell_type": "markdown",
   "id": "573e8004",
   "metadata": {},
   "source": [
    "***"
   ]
  },
  {
   "cell_type": "code",
   "execution_count": 240,
   "id": "f70c3d0e",
   "metadata": {},
   "outputs": [],
   "source": [
    "X_num37 = df.drop(columns = [\"price\", \"long\", \"zipcode\", \"1.2\", \"0.2\", \"1.1\", \"floors\", \"day_bought\", \"0.3\"], axis = 1) # good FOR THE MODEL TO DO THIS"
   ]
  },
  {
   "cell_type": "code",
   "execution_count": 241,
   "id": "6f866055",
   "metadata": {},
   "outputs": [
    {
     "data": {
      "text/plain": [
       "(18623, 28)"
      ]
     },
     "execution_count": 241,
     "metadata": {},
     "output_type": "execute_result"
    }
   ],
   "source": [
    "transformer = MinMaxScaler().fit(X_num37)\n",
    "X_num_minmax = transformer.transform(X_num37)\n",
    "X_num_norm = pd.DataFrame(X_num_minmax,columns=X_num37.columns)\n",
    "X_num_normalized = X_num_norm.copy()\n",
    "X_num_normalized.shape"
   ]
  },
  {
   "cell_type": "code",
   "execution_count": 242,
   "id": "44c16c29",
   "metadata": {
    "scrolled": true
   },
   "outputs": [
    {
     "data": {
      "text/plain": [
       "LinearRegression()"
      ]
     },
     "execution_count": 242,
     "metadata": {},
     "output_type": "execute_result"
    }
   ],
   "source": [
    "X = X_num_normalized.copy()\n",
    "Y = df[\"price\"]\n",
    "#Separation between train and test\n",
    "X_train, X_test, y_train, y_test = train_test_split(X, Y, test_size=0.25, random_state=42) \n",
    "#Train model\n",
    "model = LinearRegression()\n",
    "model.fit(X_train,y_train)"
   ]
  },
  {
   "cell_type": "code",
   "execution_count": 243,
   "id": "802b30a7",
   "metadata": {},
   "outputs": [
    {
     "data": {
      "text/plain": [
       "(4656,)"
      ]
     },
     "execution_count": 243,
     "metadata": {},
     "output_type": "execute_result"
    }
   ],
   "source": [
    "#Test model\n",
    "predictions = model.predict(X_test)\n",
    "predictions.shape"
   ]
  },
  {
   "cell_type": "code",
   "execution_count": 244,
   "id": "a208ea6b",
   "metadata": {},
   "outputs": [
    {
     "name": "stdout",
     "output_type": "stream",
     "text": [
      "LinearRegression() metrics are: \n",
      "R2 = 0.7226427210168886\n",
      "R2 adjusted = 0.7260127967992928\n",
      "RMSE = 155911.28\n",
      "MSE = 24308327598.26\n",
      "MAE = 105341.29\n",
      "KNeighborsRegressor(n_neighbors=9) metrics are: \n",
      "R2 = 0.7719538243480916\n",
      "R2 adjusted = 0.7983034655051086\n",
      "RMSE = 141373.87\n",
      "MSE = 19986571708.52\n",
      "MAE = 84472.37\n",
      "DecisionTreeRegressor(max_depth=10) metrics are: \n",
      "R2 = 0.7488833656630871\n",
      "R2 adjusted = 0.8628619665554511\n",
      "RMSE = 148352.71\n",
      "MSE = 22008527900.24\n",
      "MAE = 84841.27\n",
      "RandomForestRegressor(max_depth=10) metrics are: \n",
      "R2 = 0.8416212814501463\n",
      "R2 adjusted = 0.899856086352938\n",
      "RMSE = 117816.51\n",
      "MSE = 13880730980.7\n",
      "MAE = 71695.59\n"
     ]
    }
   ],
   "source": [
    "predictions, y_test, r2 = modeling(Y, X, models=[LinearRegression(), KNeighborsRegressor(n_neighbors=9), DecisionTreeRegressor(max_depth=10),RandomForestRegressor(n_estimators=100, max_depth=10)], test_size=0.24)"
   ]
  },
  {
   "cell_type": "markdown",
   "id": "d7df735b",
   "metadata": {},
   "source": [
    "***"
   ]
  },
  {
   "cell_type": "code",
   "execution_count": 245,
   "id": "2ed4d663",
   "metadata": {},
   "outputs": [],
   "source": [
    "X_num38 = df.drop(columns = [\"price\", \"long\", \"zipcode\", \"floors\"], axis = 1) # good FOR THE MODEL TO DO THIS"
   ]
  },
  {
   "cell_type": "code",
   "execution_count": 246,
   "id": "f1f43ae7",
   "metadata": {},
   "outputs": [
    {
     "data": {
      "text/plain": [
       "(18623, 33)"
      ]
     },
     "execution_count": 246,
     "metadata": {},
     "output_type": "execute_result"
    }
   ],
   "source": [
    "transformer = MinMaxScaler().fit(X_num38)\n",
    "X_num_minmax = transformer.transform(X_num38)\n",
    "X_num_norm = pd.DataFrame(X_num_minmax,columns=X_num38.columns)\n",
    "X_num_normalized = X_num_norm.copy()\n",
    "X_num_normalized.shape"
   ]
  },
  {
   "cell_type": "code",
   "execution_count": 247,
   "id": "08d6daa7",
   "metadata": {
    "scrolled": true
   },
   "outputs": [
    {
     "data": {
      "text/plain": [
       "LinearRegression()"
      ]
     },
     "execution_count": 247,
     "metadata": {},
     "output_type": "execute_result"
    }
   ],
   "source": [
    "X = X_num_normalized.copy()\n",
    "Y = df[\"price\"]\n",
    "#Separation between train and test\n",
    "X_train, X_test, y_train, y_test = train_test_split(X, Y, test_size=0.25, random_state=42) \n",
    "#Train model\n",
    "model = LinearRegression()\n",
    "model.fit(X_train,y_train)"
   ]
  },
  {
   "cell_type": "code",
   "execution_count": 248,
   "id": "793a9d54",
   "metadata": {},
   "outputs": [
    {
     "data": {
      "text/plain": [
       "(4656,)"
      ]
     },
     "execution_count": 248,
     "metadata": {},
     "output_type": "execute_result"
    }
   ],
   "source": [
    "#Test model\n",
    "predictions = model.predict(X_test)\n",
    "predictions.shape"
   ]
  },
  {
   "cell_type": "code",
   "execution_count": 249,
   "id": "3d70a089",
   "metadata": {},
   "outputs": [
    {
     "name": "stdout",
     "output_type": "stream",
     "text": [
      "LinearRegression() metrics are: \n",
      "R2 = 0.7252713088044236\n",
      "R2 adjusted = 0.72825975369992\n",
      "RMSE = 155170.72\n",
      "MSE = 24077951192.44\n",
      "MAE = 104767.52\n",
      "KNeighborsRegressor(n_neighbors=9) metrics are: \n",
      "R2 = 0.7280052467577964\n",
      "R2 adjusted = 0.7639046766197952\n",
      "RMSE = 154396.7\n",
      "MSE = 23838341618.65\n",
      "MAE = 92797.74\n",
      "DecisionTreeRegressor(max_depth=10) metrics are: \n",
      "R2 = 0.7515142767154278\n",
      "R2 adjusted = 0.8632280514413312\n",
      "RMSE = 147573.53\n",
      "MSE = 21777947877.33\n",
      "MAE = 84911.77\n",
      "RandomForestRegressor(max_depth=10) metrics are: \n",
      "R2 = 0.8406862360227441\n",
      "R2 adjusted = 0.9002418828735713\n",
      "RMSE = 118163.79\n",
      "MSE = 13962680842.09\n",
      "MAE = 71710.78\n"
     ]
    }
   ],
   "source": [
    "predictions, y_test, r2 = modeling(Y, X, models=[LinearRegression(), KNeighborsRegressor(n_neighbors=9), DecisionTreeRegressor(max_depth=10),RandomForestRegressor(n_estimators=100, max_depth=10)], test_size=0.24)"
   ]
  },
  {
   "cell_type": "markdown",
   "id": "812b106f",
   "metadata": {},
   "source": [
    "#### at this point we conclude the model perfoms better without zipcode and long"
   ]
  }
 ],
 "metadata": {
  "kernelspec": {
   "display_name": "Python 3 (ipykernel)",
   "language": "python",
   "name": "python3"
  },
  "language_info": {
   "codemirror_mode": {
    "name": "ipython",
    "version": 3
   },
   "file_extension": ".py",
   "mimetype": "text/x-python",
   "name": "python",
   "nbconvert_exporter": "python",
   "pygments_lexer": "ipython3",
   "version": "3.9.13"
  }
 },
 "nbformat": 4,
 "nbformat_minor": 5
}
